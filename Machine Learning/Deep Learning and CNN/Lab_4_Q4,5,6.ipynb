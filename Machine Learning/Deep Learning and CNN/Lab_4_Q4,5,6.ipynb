{
 "cells": [
  {
   "cell_type": "markdown",
   "metadata": {
    "id": "xE0EqK7JT1zW"
   },
   "source": [
    "## Q-4 Implementation of Neural Network From Scratch. This class takes in list of Layer objects. It also takes a loss object. You can also allow it to take a seed as input. The seed is used for reproduciblity across runs. Each layer is characterized by its activation function and count of output neuron. Examples of activation include linear (W x + b), sigmoid, tanh etc.\n"
   ]
  },
  {
   "cell_type": "code",
   "execution_count": 1,
   "metadata": {
    "id": "mq2qL379KxMs"
   },
   "outputs": [],
   "source": [
    "import numpy as np\n",
    "import matplotlib.pyplot as plt\n",
    "from keras.datasets import mnist\n",
    "from keras.utils import np_utils\n",
    "from sklearn.datasets import load_boston\n",
    "from sklearn.model_selection import train_test_split"
   ]
  },
  {
   "cell_type": "code",
   "execution_count": 2,
   "metadata": {
    "id": "wSlkQkVYT1zc"
   },
   "outputs": [],
   "source": [
    "# Base class acts like Abstract Data Type for Layer class which acts as template to work with other class \n",
    "# It behave as parent class .\n",
    "class LAYER:\n",
    "\n",
    "    def Forward_Propagation(self, input):\n",
    "        raise NotImplementedError\n",
    "    \n",
    "    def Backward_Propagation(self, output_error, learning_rate):\n",
    "        raise NotImplementedError\n",
    "        "
   ]
  },
  {
   "cell_type": "code",
   "execution_count": 3,
   "metadata": {
    "id": "1N-fjMtMT1zd"
   },
   "outputs": [],
   "source": [
    "# Inherit from parent class LAYER\n",
    "class FBLAYER(LAYER):\n",
    "    # input_length = Number of input neurons\n",
    "    # output_length = Number of output neurons\n",
    "    def __init__(self, input_length, output_length):\n",
    "        self.weights = np.random.rand(input_length, output_length) - 0.5\n",
    "        self.bias = np.random.rand(1, output_length) - 0.5\n",
    "\n",
    "    # return output form a given (input data) X\n",
    "    def Forward_Propagation(self, X):\n",
    "        self.input = X\n",
    "        self.output = np.dot(self.input, self.weights) + self.bias\n",
    "        return self.output\n",
    "\n",
    "    # Computeing dE/dW, dE/dB for a given output_error = dE/dY. Return input_error = dE/dX.\n",
    "    def Backward_Propagation(self, output_error, learning_rate):\n",
    "        input_error = np.dot(output_error, self.weights.T)\n",
    "        weights_error = np.dot(self.input.T, output_error)\n",
    "    \n",
    "        self.weights -= learning_rate * weights_error\n",
    "        self.bias -= learning_rate * output_error\n",
    "        return input_error"
   ]
  },
  {
   "cell_type": "code",
   "execution_count": 4,
   "metadata": {
    "id": "CYl11C9mT1ze"
   },
   "outputs": [],
   "source": [
    "class ActivationfunctionLayer(LAYER):\n",
    "    def __init__(self, activation, activation_prime):\n",
    "        self.activation = activation\n",
    "        self.activation_prime = activation_prime\n",
    "\n",
    "    def Forward_Propagation(self, X):\n",
    "        self.input = X\n",
    "        self.output = self.activation(self.input)\n",
    "        return self.output\n",
    "\n",
    "    def Backward_Propagation(self, output_error, learning_rate):\n",
    "        return self.activation_prime(self.input) * output_error"
   ]
  },
  {
   "cell_type": "code",
   "execution_count": 5,
   "metadata": {
    "id": "ugCb849pT1zf"
   },
   "outputs": [],
   "source": [
    "# activation classes and its derivatives\n",
    "class Activation_functions:\n",
    "    def tanh(self,x):\n",
    "        return np.tanh(x)\n",
    "\n",
    "    def tanh_prime(self,x):\n",
    "        return 1-np.tanh(x)**2\n",
    "\n",
    "    def sigmoid(self,x):\n",
    "        return 1/(1+np.exp(-x))\n",
    "\n",
    "    def sigmoid_prime(self,x):\n",
    "        s = self.sigmoid(x)\n",
    "        return s*(1-s) \n",
    "\n",
    "    def linear(self,x):\n",
    "        return x\n",
    "\n",
    "    def linear_prime(self,x):\n",
    "        return np.ones(x.shape)\n",
    "    \n",
    "    def softmax(self,x):\n",
    "        a = np.exp(x)\n",
    "        return a / np.sum(a)\n",
    "       \n",
    "    def softmax_prime(self,x):\n",
    "        s = self.softmax(x)\n",
    "        return s - s*s"
   ]
  },
  {
   "cell_type": "code",
   "execution_count": 6,
   "metadata": {
    "id": "77c5Js_cT1zg"
   },
   "outputs": [],
   "source": [
    "# loss classes and its respective derivative\n",
    "\n",
    "class mean_squared_error:\n",
    "    \n",
    "    def mse(self,y_true, y_pred):\n",
    "        return np.mean(np.power(y_true-y_pred, 2))\n",
    "\n",
    "    def mse_prime(self,y_true, y_pred):\n",
    "        return 2*(y_pred-y_true)/y_true.size\n",
    "\n",
    "class cross_entropy:\n",
    "\n",
    "    def cross_en_prime(self,y_true, y_pred):\n",
    "        \n",
    "        # if value is negative than I will return 0.00000001\n",
    "        y_pred[y_pred < 1e-8] = 1e-8\n",
    "        lossGrad = (-1/(float(y_pred.shape[0])))*y_true*(1/y_pred)\n",
    "        return lossGrad\n",
    "\n",
    "    def cross_en(self,y_true,y_pred):\n",
    "        y_pred[y_pred < 1e-8] = 1e-8\n",
    "        loss= -np.sum(y_true*np.log(y_pred))\n",
    "        return loss/float(y_pred.shape[0])\n"
   ]
  },
  {
   "cell_type": "code",
   "execution_count": 7,
   "metadata": {
    "id": "3XBbPHfuT1zg"
   },
   "outputs": [],
   "source": [
    "class Neural_Network:\n",
    "    def __init__(self):\n",
    "        self.layers = []\n",
    "        self.loss = None\n",
    "        self.loss_prime = None\n",
    "\n",
    "    # used to add layer to network\n",
    "    def addition_of_layer(self, layer):\n",
    "        self.layers.append(layer)\n",
    "\n",
    "    # used to add the loss function\n",
    "    def loss_useful_function(self, loss, loss_prime):\n",
    "        self.loss = loss\n",
    "        self.loss_prime = loss_prime\n",
    "\n",
    "    # predict Output for given input\n",
    "    def predict(self, X_test):\n",
    "        result = []\n",
    "\n",
    "        # forward propagation\n",
    "        for i in range(len(X_test)):    \n",
    "            Outpot = X_test[i]\n",
    "            for layer in self.layers:\n",
    "                Outpot = layer.Forward_Propagation(Outpot)\n",
    "            result.append(Outpot)\n",
    "\n",
    "        return result\n",
    "\n",
    "    # training the Neural network\n",
    "    def fit(self, x_train, y_train, iterations, learning_rate):\n",
    "\n",
    "        lossStore = []\n",
    "        # training the loop with given iterations\n",
    "        for i in range(iterations):\n",
    "            error = 0\n",
    "            for j in range(len(x_train)):\n",
    "                # forward propagation\n",
    "                Outpot = x_train[j]\n",
    "                for layer in self.layers:\n",
    "                    Outpot = layer.Forward_Propagation(Outpot)\n",
    "\n",
    "                # compute loss \n",
    "                error += self.loss(y_train[j], Outpot)\n",
    "                \n",
    "                # backward propagation\n",
    "                error1 = self.loss_prime(y_train[j], Outpot)\n",
    "                for layer in reversed(self.layers):\n",
    "                    error1 = layer.Backward_Propagation(error1, learning_rate)\n",
    "\n",
    "            # calculate average error on all samples\n",
    "            error /= len(x_train)\n",
    "            lossStore.append(error)\n",
    "         \n",
    "        return lossStore\n"
   ]
  },
  {
   "cell_type": "markdown",
   "metadata": {
    "id": "fL50ADjwT1zh"
   },
   "source": [
    "## Q-5 (1) just one output neural with linear activation and least mean square loss (This is linear regression). Train this model on boston dataset using SGD."
   ]
  },
  {
   "cell_type": "code",
   "execution_count": 8,
   "metadata": {
    "colab": {
     "base_uri": "https://localhost:8080/",
     "height": 924
    },
    "id": "2mk-u9QdT1zi",
    "outputId": "34f1e92f-0cb5-4df6-da4d-89a96a0b6eb3"
   },
   "outputs": [
    {
     "name": "stderr",
     "output_type": "stream",
     "text": [
      "/usr/local/lib/python3.7/dist-packages/sklearn/utils/deprecation.py:87: FutureWarning: Function load_boston is deprecated; `load_boston` is deprecated in 1.0 and will be removed in 1.2.\n",
      "\n",
      "    The Boston housing prices dataset has an ethical problem. You can refer to\n",
      "    the documentation of this function for further details.\n",
      "\n",
      "    The scikit-learn maintainers therefore strongly discourage the use of this\n",
      "    dataset unless the purpose of the code is to study and educate about\n",
      "    ethical issues in data science and machine learning.\n",
      "\n",
      "    In this special case, you can fetch the dataset from the original\n",
      "    source::\n",
      "\n",
      "        import pandas as pd\n",
      "        import numpy as np\n",
      "\n",
      "\n",
      "        data_url = \"http://lib.stat.cmu.edu/datasets/boston\"\n",
      "        raw_df = pd.read_csv(data_url, sep=\"\\s+\", skiprows=22, header=None)\n",
      "        data = np.hstack([raw_df.values[::2, :], raw_df.values[1::2, :2]])\n",
      "        target = raw_df.values[1::2, 2]\n",
      "\n",
      "    Alternative datasets include the California housing dataset (i.e.\n",
      "    :func:`~sklearn.datasets.fetch_california_housing`) and the Ames housing\n",
      "    dataset. You can load the datasets as follows::\n",
      "\n",
      "        from sklearn.datasets import fetch_california_housing\n",
      "        housing = fetch_california_housing()\n",
      "\n",
      "    for the California housing dataset and::\n",
      "\n",
      "        from sklearn.datasets import fetch_openml\n",
      "        housing = fetch_openml(name=\"house_prices\", as_frame=True)\n",
      "\n",
      "    for the Ames housing dataset.\n",
      "    \n",
      "  warnings.warn(msg, category=FutureWarning)\n"
     ]
    },
    {
     "data": {
      "image/png": "[encoded data removed]",
      "text/plain": [
       "<Figure size 432x288 with 1 Axes>"
      ]
     },
     "metadata": {
      "needs_background": "light"
     },
     "output_type": "display_data"
    }
   ],
   "source": [
    "# Splitting the Data\n",
    "x, y = load_boston(return_X_y=True)\n",
    "x_train, x_test, y_train, y_test = train_test_split(x, y, test_size = 0.2)\n",
    "\n",
    "# Here we are scaling the data points\n",
    "mean_of_X = np.mean(x_train)\n",
    "max_value_twod_col = np.amax(x_train, axis = 0)\n",
    "min_value_twod_col = np.amin(x_train, axis = 0)\n",
    "x_train = (x_train- mean_of_X)/(max_value_twod_col - min_value_twod_col)\n",
    "mean_of_X = np.mean(x_test)\n",
    "max_value_twod_col = np.amax(x_test, axis = 0)\n",
    "min_value_twod_col = np.amin(x_test, axis = 0)\n",
    "x_test = (x_test- mean_of_X)/(max_value_twod_col - min_value_twod_col)\n",
    "\n",
    "# Here we are expanding the dimension of input data into 3 dimensions \n",
    "x_train = np.expand_dims(x_train,axis=1)\n",
    "y_train = y_train.reshape(y_train.shape[0],1)\n",
    "y_train = np.expand_dims(y_train,axis=1)\n",
    "x_test = np.expand_dims(x_test,axis=1)\n",
    "y_test = y_test.reshape(y_test.shape[0],1)\n",
    "y_test = np.expand_dims(y_test,axis=1)\n",
    "\n",
    "# creating the Neural Network according to given question in Assignment\n",
    "net1 = Neural_Network()\n",
    "net1.addition_of_layer(FBLAYER(13, 1))\n",
    "Activation_function = Activation_functions()\n",
    "net1.addition_of_layer(ActivationfunctionLayer(Activation_function.linear, Activation_function.linear_prime))\n",
    "lossfunction = mean_squared_error()\n",
    "net1.loss_useful_function(lossfunction.mse, lossfunction.mse_prime)\n",
    "lossStore = net1.fit(x_train, y_train,iterations = 1000, learning_rate=0.000004)\n",
    "\n",
    "plt.scatter(range(len(lossStore)),lossStore)\n",
    "plt.xlabel(\"Iterations\")\n",
    "plt.ylabel(\"Loss on Training set\")\n",
    "plt.show()"
   ]
  },
  {
   "cell_type": "code",
   "execution_count": 9,
   "metadata": {
    "colab": {
     "base_uri": "https://localhost:8080/"
    },
    "id": "zbiNAlLJKZSn",
    "outputId": "d7ff909e-5871-4cf7-daea-72de30d631b3"
   },
   "outputs": [
    {
     "name": "stdout",
     "output_type": "stream",
     "text": [
      "Mean Squared error in Prediction of Housing Price    60.456795443854276\n"
     ]
    }
   ],
   "source": [
    "# testing the data point\n",
    "y_pred = net1.predict(x_test)\n",
    "print(\"Mean Squared error in Prediction of Housing Price   \",lossfunction.mse(y_pred,y_test))"
   ]
  },
  {
   "cell_type": "markdown",
   "metadata": {
    "id": "J5b7EBC_DYUs"
   },
   "source": [
    "- We observe more error bcause we have only one neuron here"
   ]
  },
  {
   "cell_type": "markdown",
   "metadata": {
    "id": "yRQj7xaRT1zj"
   },
   "source": [
    "## Q-5(2) two layers. Layer 1 with 13 output neurons with sigmoid activation. Layer 2 with one output neuron and linear activation. use mean squared loss"
   ]
  },
  {
   "cell_type": "code",
   "execution_count": null,
   "metadata": {
    "colab": {
     "base_uri": "https://localhost:8080/"
    },
    "id": "22iYMQ76T1zk",
    "outputId": "289197c8-6603-415a-9126-bd73d23290d6"
   },
   "outputs": [
    {
     "data": {
      "image/png": "[encoded data removed]",
      "text/plain": [
       "<Figure size 432x288 with 1 Axes>"
      ]
     },
     "metadata": {
      "needs_background": "light"
     },
     "output_type": "display_data"
    }
   ],
   "source": [
    "# creating the Neural Network according to given question in Assignment\n",
    "net2 = Neural_Network()\n",
    "Activation_function = Activation_functions()\n",
    "net2.addition_of_layer(FBLAYER(13, 13))\n",
    "net2.addition_of_layer(ActivationfunctionLayer(Activation_function.sigmoid, Activation_function.sigmoid_prime))\n",
    "net2.addition_of_layer(FBLAYER(13, 1))\n",
    "net2.addition_of_layer(ActivationfunctionLayer(Activation_function.linear, Activation_function.linear_prime))\n",
    "lossfunction = mean_squared_error()\n",
    "net2.loss_useful_function(lossfunction.mse, lossfunction.mse_prime)\n",
    "LossStore = net2.fit(x_train, y_train,iterations=1000, learning_rate=0.00004)\n",
    "\n",
    "plt.scatter(range(len(lossStore)),lossStore)\n",
    "plt.xlabel(\"Iterations\")\n",
    "plt.ylabel(\"Loss on Training set\")\n",
    "plt.show()"
   ]
  },
  {
   "cell_type": "code",
   "execution_count": null,
   "metadata": {
    "colab": {
     "base_uri": "https://localhost:8080/"
    },
    "id": "91oKrC1dK-TL",
    "outputId": "e6f92636-05a0-479e-a87a-b8c79ef81856"
   },
   "outputs": [
    {
     "name": "stdout",
     "output_type": "stream",
     "text": [
      "Mean Squared error in Prediction of Housing Price    58.52995721528505\n"
     ]
    }
   ],
   "source": [
    "# testing the x_trains values\n",
    "y_pred = net2.predict(x_test)\n",
    "print(\"Mean Squared error in Prediction of Housing Price   \",lossfunction.mse(y_pred,y_test))"
   ]
  },
  {
   "cell_type": "markdown",
   "metadata": {
    "id": "6NE2v0QWT1zk"
   },
   "source": [
    "## Q-5(3) three layers. Layer 1 with 13 output neurons with sigmoid activation.Layer 2 with 13 output neurons and sigmoid activation. Layer 3 with oneoutput neuron and linear activation. use mean squared loss"
   ]
  },
  {
   "cell_type": "code",
   "execution_count": null,
   "metadata": {
    "colab": {
     "base_uri": "https://localhost:8080/",
     "height": 279
    },
    "id": "Qgv8-FfDT1zk",
    "outputId": "8a684718-efe4-4882-eeb4-ad54a9ba9589"
   },
   "outputs": [
    {
     "data": {
      "image/png": "[encoded data removed]",
      "text/plain": [
       "<Figure size 432x288 with 1 Axes>"
      ]
     },
     "metadata": {
      "needs_background": "light"
     },
     "output_type": "display_data"
    }
   ],
   "source": [
    "# creating the Neural Network according to given question in Assignment\n",
    "net3 = Neural_Network()\n",
    "Activation_function = Activation_functions()\n",
    "net3.addition_of_layer(FBLAYER(13, 13))\n",
    "net3.addition_of_layer(ActivationfunctionLayer(Activation_function.sigmoid, Activation_function.sigmoid_prime))\n",
    "net3.addition_of_layer(FBLAYER(13, 13))\n",
    "net3.addition_of_layer(ActivationfunctionLayer(Activation_function.sigmoid, Activation_function.sigmoid_prime))\n",
    "net3.addition_of_layer(FBLAYER(13, 1))\n",
    "net3.addition_of_layer(ActivationfunctionLayer(Activation_function.linear, Activation_function.linear_prime))\n",
    "lossfunction = mean_squared_error()\n",
    "net3.loss_useful_function(lossfunction.mse, lossfunction.mse_prime)\n",
    "LossStore = net3.fit(x_train, y_train,iterations = 1000, learning_rate=0.0004)\n",
    "\n",
    "plt.scatter(range(len(lossStore)),lossStore)\n",
    "plt.xlabel(\"Iterations\")\n",
    "plt.ylabel(\"Loss on Training set\")\n",
    "plt.show()"
   ]
  },
  {
   "cell_type": "code",
   "execution_count": null,
   "metadata": {
    "colab": {
     "base_uri": "https://localhost:8080/"
    },
    "id": "uD24JtCSLH6N",
    "outputId": "0cf79390-2a7f-42eb-83bb-0c0e33729972"
   },
   "outputs": [
    {
     "name": "stdout",
     "output_type": "stream",
     "text": [
      "Mean Squared error in Prediction of Housing Price    58.410121104970386\n"
     ]
    }
   ],
   "source": [
    "# testing the x_trains values\n",
    "y_pred = net3.predict(x_test)\n",
    "print(\"Mean Squared error in Prediction of Housing Price   \",lossfunction.mse(y_pred,y_test))"
   ]
  },
  {
   "cell_type": "markdown",
   "metadata": {
    "id": "uY8gSf4uT1zl"
   },
   "source": [
    "## Q-6 Using the above create following networks with the following\n",
    "- two layers. Layer 1 with 89 output neurons with tanh activation. Layer 2 with ten output neuron and sigmoid activation. use mean squared loss by using Train this model on mnist (sklearn) dataset using SGD."
   ]
  },
  {
   "cell_type": "code",
   "execution_count": null,
   "metadata": {
    "colab": {
     "base_uri": "https://localhost:8080/",
     "height": 279
    },
    "id": "KPJG4ICyT1zl",
    "outputId": "57872d53-7312-432d-cdbf-558ba13328df"
   },
   "outputs": [
    {
     "data": {
      "image/png": "[encoded data removed]",
      "text/plain": [
       "<Figure size 432x288 with 1 Axes>"
      ]
     },
     "metadata": {
      "needs_background": "light"
     },
     "output_type": "display_data"
    }
   ],
   "source": [
    "# loading the  MNIST from server\n",
    "(x_train, y_train), (x_test, y_test) = mnist.load_data()\n",
    "\n",
    "# reshape and normalize input data\n",
    "x_train = x_train.reshape(x_train.shape[0], 1, 28*28)\n",
    "x_train = x_train.astype('float32')\n",
    "x_train /= 255\n",
    "\n",
    "# it is used to convert the given number into list index of number (like if number is 8 than it put 1 at index 8 of list1  [0,0,0,0,0,0,0,0,1])\n",
    "y_train = np_utils.to_categorical(y_train)\n",
    "\n",
    "x_test = x_test.reshape(x_test.shape[0], 1, 28*28)\n",
    "x_test = x_test.astype('float32')\n",
    "x_test /= 255\n",
    "y_test = np_utils.to_categorical(y_test)\n",
    "\n",
    "# creating the Neural Network according to given question in Assignment\n",
    "net4 = Neural_Network()\n",
    "Activation_function = Activation_functions()\n",
    "net4.addition_of_layer(FBLAYER(28*28, 89))               \n",
    "net4.addition_of_layer(ActivationfunctionLayer(Activation_function.tanh, Activation_function.tanh_prime))                                    \n",
    "net4.addition_of_layer(FBLAYER(89, 10))                    \n",
    "net4.addition_of_layer(ActivationfunctionLayer(Activation_function.sigmoid, Activation_function.sigmoid_prime))\n",
    "\n",
    "# Here we are adding loss function \n",
    "lossfunction = mean_squared_error()\n",
    "net4.loss_useful_function(lossfunction.mse, lossfunction.mse_prime)\n",
    "\n",
    "# train on 1000 samples of data in network.\n",
    "lossStore = net4.fit(x_train[0:1000], y_train[0:1000], iterations =1000, learning_rate=0.2)\n",
    "\n",
    "plt.scatter(range(len(lossStore)),lossStore)\n",
    "plt.xlabel(\"Iterations\")\n",
    "plt.ylabel(\"Loss on Training set\")\n",
    "plt.show()"
   ]
  },
  {
   "cell_type": "code",
   "execution_count": null,
   "metadata": {
    "colab": {
     "base_uri": "https://localhost:8080/"
    },
    "id": "fUo2Ccs9T1zl",
    "outputId": "86938f8d-742c-4c92-b73e-fdd1a35e85ef"
   },
   "outputs": [
    {
     "name": "stdout",
     "output_type": "stream",
     "text": [
      "Accuracy   90.0 %\n"
     ]
    }
   ],
   "source": [
    "# testing on 100 data samples\n",
    "out4 = net4.predict(x_test[0:100])\n",
    "countPredictions=0\n",
    "test_len = 100\n",
    "for i in range(test_len):\n",
    "    count=1;\n",
    "    index = np.argmax(out4[i])\n",
    "    if(index== np.argmax(y_test[i])):\n",
    "        countPredictions+=1\n",
    "\n",
    "\n",
    "print(\"Accuracy  \", (countPredictions/test_len)*100, \"%\")"
   ]
  },
  {
   "cell_type": "markdown",
   "metadata": {
    "id": "bzkolwShT1zm"
   },
   "source": [
    "- two layers. Layer 1 with 89 output neurons with tanh activation. Layer2 with ten output neuron and linear activation. use softmax with cross entropy loss.By using this model on mnist (sklearn) dataset using SGD."
   ]
  },
  {
   "cell_type": "code",
   "execution_count": null,
   "metadata": {
    "colab": {
     "base_uri": "https://localhost:8080/",
     "height": 279
    },
    "id": "UvJ8ehsaT1zm",
    "outputId": "3ea773e8-94d1-423e-cabf-0ad098ba68f2"
   },
   "outputs": [
    {
     "data": {
      "image/png": "[encoded data removed]",
      "text/plain": [
       "<Figure size 432x288 with 1 Axes>"
      ]
     },
     "metadata": {
      "needs_background": "light"
     },
     "output_type": "display_data"
    }
   ],
   "source": [
    "# load MNIST from server\n",
    "(x_train, y_train), (x_test, y_test) = mnist.load_data()\n",
    "\n",
    "# reshape and normalize input data\n",
    "x_train = x_train.reshape(x_train.shape[0], 1, 28*28)\n",
    "x_train = x_train.astype('float32')\n",
    "x_train /= 255\n",
    "x_train = x_train \n",
    "y_train = np_utils.to_categorical(y_train)\n",
    "\n",
    "# reshape and normalize testing data\n",
    "x_test = x_test.reshape(x_test.shape[0], 1, 28*28)\n",
    "x_test = x_test.astype('float32')\n",
    "x_test /= 255\n",
    "x_train = x_train \n",
    "# it is used to convert the given number into list index of number like if number is 8 than it put 1 at index 8 of list1  [0,0,0,0,0,0,0,0,1]\n",
    "y_test = np_utils.to_categorical(y_test)\n",
    "\n",
    "# creating the Neural Network according to given question in Assignment\n",
    "net5 = Neural_Network()\n",
    "Activation_function = Activation_functions()\n",
    "net5.addition_of_layer(FBLAYER(28*28, 89))               \n",
    "net5.addition_of_layer(ActivationfunctionLayer(Activation_function.tanh, Activation_function.tanh_prime))                   \n",
    "net5.addition_of_layer(FBLAYER(89, 10))                    \n",
    "net5.addition_of_layer(ActivationfunctionLayer(Activation_function.softmax, Activation_function.softmax_prime))\n",
    "\n",
    "# Here we are adding loss function \n",
    "lossfunction= cross_entropy()\n",
    "net5.loss_useful_function(lossfunction.cross_en, lossfunction.cross_en_prime)\n",
    "\n",
    "# train on 1000 samples of data in network\n",
    "lossStore = net5.fit(x_train[0:1000], y_train[0:1000], iterations = 1000, learning_rate=0.00001)\n",
    "\n",
    "plt.scatter(range(len(lossStore)),lossStore)\n",
    "plt.xlabel(\"Iterations\")\n",
    "plt.ylabel(\"Loss on Training set\")\n",
    "plt.show()"
   ]
  },
  {
   "cell_type": "code",
   "execution_count": null,
   "metadata": {
    "colab": {
     "base_uri": "https://localhost:8080/"
    },
    "id": "046o1gYBLxX1",
    "outputId": "5a1905fc-f86a-4566-d3b6-5e6412c7af85"
   },
   "outputs": [
    {
     "name": "stdout",
     "output_type": "stream",
     "text": [
      "Accuracy   90.0 %\n"
     ]
    }
   ],
   "source": [
    "# testing on 100 data samples\n",
    "out5 = net5.predict(x_test[0:100])\n",
    "countPredictions=0\n",
    "test_len = 100\n",
    "for i in range(test_len):\n",
    "    count=1;\n",
    "    index = np.argmax(out4[i])\n",
    "    if(index== np.argmax(y_test[i])):\n",
    "        countPredictions+=1\n",
    "\n",
    "print(\"Accuracy  \", (countPredictions/test_len)*100, \"%\")"
   ]
  },
  {
   "cell_type": "markdown",
   "metadata": {
    "id": "6RO4ag7lBfhm"
   },
   "source": [
    "- We observe that as we increase the number of iterations in our model, the accuracy increases. An increase in number of layers will also increase the accuracy, which is observable from the plots. When the number of layers increased from 1 to 3, error reduced.\n",
    "\n",
    "- We observe that the Neural Network performs well for both Regression and Classification problems.\n",
    "\n",
    "#### References:\n",
    "- https://medium.com/swlh/neural-network-from-scratch-in-python-fcd6faef9f35\n",
    "- https://towardsdatascience.com/math-neural-network-from-scratch-in-python-d6da9f29ce65"
   ]
  }
 ],
 "metadata": {
  "colab": {
   "collapsed_sections": [],
   "name": "Lab_4_Q4,5,6_assignment.ipynb",
   "provenance": []
  },
  "interpreter": {
   "hash": "31ff804e05c542abfdab620000e5333bc9afc6a565bbee95afa27485d8eec998"
  },
  "kernelspec": {
   "display_name": "Python 3",
   "language": "python",
   "name": "python3"
  },
  "language_info": {
   "codemirror_mode": {
    "name": "ipython",
    "version": 3
   },
   "file_extension": ".py",
   "mimetype": "text/x-python",
   "name": "python",
   "nbconvert_exporter": "python",
   "pygments_lexer": "ipython3",
   "version": "3.7.3"
  }
 },
 "nbformat": 4,
 "nbformat_minor": 1
}
