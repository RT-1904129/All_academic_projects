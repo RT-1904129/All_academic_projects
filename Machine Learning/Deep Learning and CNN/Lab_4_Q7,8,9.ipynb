{
 "cells": [
  {
   "cell_type": "markdown",
   "metadata": {
    "id": "v498tQXdVqsT"
   },
   "source": [
    "### 7. Implement the convolution layer for 1 channel input and (n¿=1) channel output. Implement both forward and backward passes. Implement the flatten operation\n",
    "### 8. (extra credit bonus:) generalize this for any number of input and any number of output channel. Implement both forward and backward passes"
   ]
  },
  {
   "cell_type": "markdown",
   "metadata": {
    "id": "Ju-bPL0UWJGF"
   },
   "source": [
    "**Note:** We have directly implemented Q8 that is a Convolutional layer that can be used for any number of input and any number of output channels. Calling `Convolutional` layer with `outputChannelCnt == 1` and `inputShape[0] == 1` will solve the Q7. We have also implemented the flatten operation."
   ]
  },
  {
   "cell_type": "code",
   "execution_count": null,
   "metadata": {
    "id": "GzjcsRG1BT31"
   },
   "outputs": [],
   "source": [
    "# Importing libraries and important modules\n",
    "import numpy as np\n",
    "import pandas as pd\n",
    "import matplotlib.pyplot as plt\n",
    "\n",
    "from scipy import signal\n",
    "from keras.datasets import mnist\n",
    "from keras.utils import np_utils\n",
    "from sklearn.model_selection import train_test_split"
   ]
  },
  {
   "cell_type": "code",
   "execution_count": null,
   "metadata": {
    "id": "iyyGhsJOBf4M"
   },
   "outputs": [],
   "source": [
    "# Class that represents the Convolutional Layer..\n",
    "class ConvolutionalLayer():\n",
    "\n",
    "    def __init__(self, inputShape, filterSize, outputChannelCnt):\n",
    "\n",
    "        # Size of the input image to be convoluted.\n",
    "        inputChannelCnt, inputHeight, inputWidth = inputShape\n",
    "\n",
    "        # The no of output channels we need\n",
    "        self.outputChannelCnt = outputChannelCnt\n",
    "\n",
    "        # Storing the values to class variables.\n",
    "        self.inputShape = inputShape\n",
    "        self.inputChannelCnt = inputChannelCnt\n",
    "\n",
    "        # Defining the shapes of output and kernels in terms of no of output channels , input shapes and kernel sizes.\n",
    "        self.outputShape = (outputChannelCnt, inputHeight - filterSize + 1, inputWidth - filterSize + 1)\n",
    "        self.kernelsShape = (outputChannelCnt, inputChannelCnt, filterSize, filterSize)\n",
    "\n",
    "        # Initiating the Kernels and biases randomly.\n",
    "        self.kernels = np.random.randn(*self.kernelsShape)\n",
    "        self.biases = np.random.randn(*self.outputShape)\n",
    "\n",
    "\n",
    "    def forwardPass(self, input):\n",
    "        self.input = input\n",
    "        self.output = np.copy(self.biases)\n",
    "\n",
    "        # Iterating and filling the output by performing \"valid\" correlation operation using signal from scipy.\n",
    "        for i in range(self.outputChannelCnt):\n",
    "            for j in range(self.inputChannelCnt):\n",
    "                self.output[i] += signal.correlate2d(self.input[j], self.kernels[i, j], \"valid\")\n",
    "        \n",
    "        return self.output\n",
    "\n",
    "   \n",
    "    def backwardPass(self, outputGrad, learningRate):\n",
    "        \n",
    "        # Initialising the partial differentiating of Kernel parameters and the input parameters.\n",
    "        kernelsGrad = np.zeros(self.kernelsShape)\n",
    "        inputGrad = np.zeros(self.inputShape)\n",
    "\n",
    "        # Using the scipy library to get del(L)/del(Kernel_i) or del(L)/del(b)\n",
    "        for i in range(self.outputChannelCnt):\n",
    "            for j in range(self.inputChannelCnt):\n",
    "                \n",
    "                # Iterating and filling:\n",
    "                #     The Kernels Gradient by performing \"valid\" correlation operation using signal from scipy.\n",
    "                #     The Input Gradient by performing \"full\" convolution operation using signal from scipy.\n",
    "\n",
    "                kernelsGrad[i, j] = signal.correlate2d(self.input[j], outputGrad[i], \"valid\")\n",
    "                inputGrad[j] += signal.convolve2d(outputGrad[i], self.kernels[i, j], \"full\")\n",
    "\n",
    "        # Updating the kernel weights & bias values using gradient descent.\n",
    "        self.kernels -= learningRate * kernelsGrad\n",
    "        self.biases -= learningRate * outputGrad\n",
    "        return inputGrad"
   ]
  },
  {
   "cell_type": "code",
   "execution_count": null,
   "metadata": {
    "id": "bzUrMEVmCQrt"
   },
   "outputs": [],
   "source": [
    "# Class that reshapes the given layer to the required dimensions.\n",
    "class FlattenLayer():\n",
    "    def __init__(self, inputShape, outputShape):\n",
    "        self.inputShape = inputShape\n",
    "        self.outputShape = outputShape\n",
    "\n",
    "    def forwardPass(self, input):\n",
    "        return np.reshape(input, self.outputShape)\n",
    "\n",
    "    def backwardPass(self, outputGrad, learningRate):\n",
    "        return np.reshape(outputGrad, self.inputShape)"
   ]
  },
  {
   "cell_type": "code",
   "execution_count": null,
   "metadata": {
    "id": "n_t6iZiUBf9S"
   },
   "outputs": [],
   "source": [
    "# Class that represents the usual Dense Layer of the Neural Network.\n",
    "class DenseLayer():\n",
    "    def __init__(self, input_size, output_size):\n",
    "\n",
    "        # Initialising the weights & biases randomly. \n",
    "        self.weights = np.random.randn(output_size, input_size)\n",
    "        self.bias = np.random.randn(output_size, 1)\n",
    "\n",
    "    def forwardPass(self, input):\n",
    "        self.input = input\n",
    "\n",
    "        # N = WX + B\n",
    "        return np.dot(self.weights, self.input) + self.bias\n",
    "\n",
    "    def backwardPass(self, outputGrad, learningRate):\n",
    "        wGrad = np.dot(outputGrad, self.input.T)\n",
    "        inputGrad = np.dot(self.weights.T, outputGrad)\n",
    "\n",
    "        # Updating the weights & biases using gradient descent.\n",
    "        self.weights -= learningRate * wGrad\n",
    "        self.bias -= learningRate * outputGrad\n",
    "        return inputGrad\n"
   ]
  },
  {
   "cell_type": "code",
   "execution_count": null,
   "metadata": {
    "id": "1RvXdCDlBf69"
   },
   "outputs": [],
   "source": [
    "# Class that represents the activation functions of the Nueral Network.\n",
    "class ActivationLayer():\n",
    "    def __init__(self, activation, activationPrime):\n",
    "        self.activation = activation\n",
    "        self.activationPrime = activationPrime\n",
    "\n",
    "    def forwardPass(self, input):\n",
    "        self.input = input\n",
    "        return self.activation(self.input)\n",
    "\n",
    "    def backwardPass(self, outputGrad, learningRate):\n",
    "        return np.multiply(outputGrad, self.activationPrime(self.input))\n",
    "\n",
    "# Implementing the sigmoid activation function.\n",
    "class Sigmoid(ActivationLayer):\n",
    "    def __init__(self):\n",
    "\n",
    "        # For forward pass\n",
    "        def sigmoid(s):\n",
    "            return 1 / (1 + np.exp(-s))\n",
    "\n",
    "        # For backward pass\n",
    "        def sigmoidPrime(s):\n",
    "            s1 = sigmoid(s)\n",
    "            return s1 * (1 - s1)\n",
    "\n",
    "        super().__init__(sigmoid, sigmoidPrime)\n",
    "\n",
    "# Implementing the tanh activation function.\n",
    "class Tanh(ActivationLayer):\n",
    "    def __init__(self):\n",
    "        \n",
    "        # For forward pass\n",
    "        def tanh(x):\n",
    "            return np.tanh(x)\n",
    "\n",
    "         # For backward pass\n",
    "        def tanhPrime(x):\n",
    "            return 1 - np.tanh(x) ** 2\n",
    "\n",
    "        super().__init__(tanh, tanhPrime)"
   ]
  },
  {
   "cell_type": "markdown",
   "metadata": {
    "id": "y-3j7z1WV5mG"
   },
   "source": [
    "### 9. Train this CNN on mnist dataset. Layer 1: Convolution layer with 16 output channels+flatten+tanh activation. Layer 2: 10 output neuron with linear activation. Softmax cross entropy loss"
   ]
  },
  {
   "cell_type": "code",
   "execution_count": null,
   "metadata": {
    "id": "BNI6Ep4VCMU5"
   },
   "outputs": [],
   "source": [
    "# Y represents the True Y\n",
    "# P represents the Predicted Y.\n",
    "\n",
    "def crossEntropy(Y, P):\n",
    "    return np.mean(-Y * np.log(P) - (1 - Y) * np.log(1 - P))\n",
    "\n",
    "def crossEntropyPrime(Y, P):\n",
    "    return ((1 - Y) / (1 - P) - Y / P) / np.size(Y)"
   ]
  },
  {
   "cell_type": "code",
   "execution_count": null,
   "metadata": {
    "id": "j66CSIcmhl3F"
   },
   "outputs": [],
   "source": [
    "# Reading the MNIST Dataset & trimming the dataset so that training can be done faster.\n",
    "(xTrain, yTrain), (xTest, yTest) = mnist.load_data()\n",
    "\n",
    "# Function that preprocesses the data & trims the dataset by taking \"cnt\" number of samples.\n",
    "def trimAndProcess(x, y, cnt):\n",
    "  \n",
    "    x = x[:cnt]\n",
    "    y = y[:cnt]\n",
    "\n",
    "    # Reshaping, normalising the x \n",
    "    x = x.reshape(len(x), 1, 28, 28)\n",
    "    x = x.astype(\"float32\") / 255\n",
    "\n",
    "    # Encoding the y.\n",
    "    y = np_utils.to_categorical(y)\n",
    "    y = y.reshape(len(y), 10, 1)\n",
    "\n",
    "    return x, y\n",
    "\n",
    "# Now, trimming the training & testing sets using the above defined functions.\n",
    "xTrain, yTrain = trimAndProcess(xTrain, yTrain, 1000)\n",
    "xTest, yTest = trimAndProcess(xTest, yTest, 1000)"
   ]
  },
  {
   "cell_type": "code",
   "execution_count": null,
   "metadata": {
    "id": "Zw0st_XKCUPt"
   },
   "outputs": [],
   "source": [
    "# Function that just predicts the output of the network for the given input by doing forward passes across the layers. \n",
    "def predict(nNetwork, input):\n",
    "    output = input\n",
    "    for layer in nNetwork:\n",
    "        output = layer.forwardPass(output)\n",
    "    return output\n",
    "\n",
    "# The main function that takes the CNN and the training dataset & performs the forward & backward passes for given number of iterations. \n",
    "def train(nNetwork, xTrain, yTrain, iters, learningRate):\n",
    "    lossStore = []\n",
    "    for _ in range(iters):\n",
    "        loss = 0\n",
    "        for x, y in zip(xTrain, yTrain):\n",
    "\n",
    "            # Performing the forwardPass\n",
    "            output = predict(nNetwork, x)\n",
    "\n",
    "            # Accumulating the loss for each sample.\n",
    "            loss += crossEntropy(y, output)\n",
    "\n",
    "            # Performing the backwardPass\n",
    "            grad = crossEntropyPrime(y, output)\n",
    "            for layer in reversed(nNetwork):\n",
    "                grad = layer.backwardPass(grad, learningRate)\n",
    "\n",
    "        loss /= len(xTrain)\n",
    "        lossStore.append(loss)\n",
    "     \n",
    "    return lossStore"
   ]
  },
  {
   "cell_type": "code",
   "execution_count": null,
   "metadata": {
    "id": "YrEyfyPqCW7l"
   },
   "outputs": [],
   "source": [
    "# Defining our neural network with all the necessary layers as per the requirements.\n",
    "nueralNetwork = [\n",
    "           \n",
    "    # 4 filters, 16 output channels\n",
    "    # (1 28 28) is the input channel, height & width\n",
    "    ConvolutionalLayer((1, 28, 28), 4, 16), \n",
    "\n",
    "    # Tanh Activation function.\n",
    "    Tanh(),\n",
    "    \n",
    "    # Flattening the input.\n",
    "    FlattenLayer((16, 25, 25), (16 * 25 * 25, 1)),\n",
    "\n",
    "    # Dense layer with 100 output neurons.\n",
    "    DenseLayer(16 * 25 * 25, 100),\n",
    "    Sigmoid(),\n",
    "\n",
    "    # Final layer with 10 output nuerons.\n",
    "    DenseLayer(100, 10),\n",
    "    Sigmoid()\n",
    "]\n",
    "\n",
    "# Training the CNN using the function defined earlier for 100 iters with a learning rate of 0.2\n",
    "lossStore = train( nueralNetwork, xTrain, yTrain, 100, 0.2)"
   ]
  },
  {
   "cell_type": "code",
   "execution_count": null,
   "metadata": {
    "colab": {
     "base_uri": "https://localhost:8080/",
     "height": 279
    },
    "id": "sBtIXZwXodns",
    "outputId": "de2484be-2638-4dc2-91cd-70eb7791bbc7"
   },
   "outputs": [
    {
     "data": {
      "image/png": "[encoded data removed]",
      "text/plain": [
       "<Figure size 432x288 with 1 Axes>"
      ]
     },
     "metadata": {
      "needs_background": "light"
     },
     "output_type": "display_data"
    }
   ],
   "source": [
    "plt.scatter(range(len(lossStore)),lossStore)\n",
    "plt.xlabel(\"Iterations\")\n",
    "plt.ylabel(\"Loss on Training set\")\n",
    "plt.show()"
   ]
  },
  {
   "cell_type": "markdown",
   "metadata": {
    "id": "9kHxuGhlo_3o"
   },
   "source": [
    "#### Checking the CNN performance on test data"
   ]
  },
  {
   "cell_type": "code",
   "execution_count": null,
   "metadata": {
    "colab": {
     "base_uri": "https://localhost:8080/"
    },
    "id": "pCywIPBroYaU",
    "outputId": "8adcc844-7155-40ec-e39a-d7d9c078a536"
   },
   "outputs": [
    {
     "name": "stdout",
     "output_type": "stream",
     "text": [
      "The percentage of the samples classified correctly is:  76.2 %\n"
     ]
    }
   ],
   "source": [
    "correct_cnt = 0\n",
    "\n",
    "for x, y in zip(xTest, yTest):\n",
    "    output = predict(nueralNetwork, x)\n",
    "    \n",
    "    if (np.argmax(output) == np.argmax(y)):\n",
    "       correct_cnt += 1\n",
    "\n",
    "print(\"The percentage of the samples classified correctly is: \", (correct_cnt/len(xTest))*100,\"%\" )"
   ]
  },
  {
   "cell_type": "markdown",
   "metadata": {
    "id": "_LE_O82VX45g"
   },
   "source": [
    "### Observations:\n",
    " - We can observe that the loss on the training dataset is decreasing overall with increase in the number of iterations as per the graph plotted above. \n",
    " - Due to the presence of numerous paramters that are being learnt in the CNN, even for training for around 1000 iterations, it is consuming a lot of time, So, we trained for just 100 iterations.  The percentage of the samples that are classified correctly by the CNN is around `76 - 85%` when trained for 100 iterations.\n",
    " - It is observable that training for even more iterations & better tuning the hyper parameter, learning rate will give an even better performance of our CNN.  \n",
    "\n",
    "### References:\n",
    "- https://towardsdatascience.com/convolutional-neural-networks-from-the-ground-up-c67bb41454e1\n",
    "- https://towardsdatascience.com/a-guide-to-convolutional-neural-networks-from-scratch-f1e3bfc3e2de\n",
    "- https://towardsdatascience.com/covolutional-neural-network-cb0883dd6529"
   ]
  }
 ],
 "metadata": {
  "colab": {
   "collapsed_sections": [],
   "name": "Lab_4_Q7,8,9.ipynb",
   "provenance": []
  },
  "kernelspec": {
   "display_name": "Python 3",
   "language": "python",
   "name": "python3"
  },
  "language_info": {
   "codemirror_mode": {
    "name": "ipython",
    "version": 3
   },
   "file_extension": ".py",
   "mimetype": "text/x-python",
   "name": "python",
   "nbconvert_exporter": "python",
   "pygments_lexer": "ipython3",
   "version": "3.7.3"
  }
 },
 "nbformat": 4,
 "nbformat_minor": 1
}
