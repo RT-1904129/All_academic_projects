{
 "cells": [
  {
   "cell_type": "markdown",
   "metadata": {
    "id": "-0Vsl3Rg8sIw"
   },
   "source": [
    "I) Deep Learning\n",
    "## 1. Implement the following operations (forward and backward pass)\n",
    "    (a) Matrix multiplication layer W X\n",
    "    (b) Bias addition layer\n",
    "    (c) Mean squared loss layer\n",
    "    (d) Soft max layer\n",
    "    (e) Sigmoid layer\n",
    "    (f) Cross entropy loss layer"
   ]
  },
  {
   "cell_type": "code",
   "execution_count": null,
   "metadata": {
    "id": "HbZX_bi672Hb"
   },
   "outputs": [],
   "source": [
    "# Importing libraries and important modules\n",
    "import numpy as np\n",
    "import pandas as pd\n",
    "import matplotlib.pyplot as plt\n",
    "\n",
    "from sklearn import datasets\n",
    "from sklearn.metrics import confusion_matrix,mean_squared_error\n",
    "from sklearn.model_selection import train_test_split"
   ]
  },
  {
   "cell_type": "code",
   "execution_count": null,
   "metadata": {
    "id": "_1yQtq7U8r6K"
   },
   "outputs": [],
   "source": [
    "# The value of Eta to be used while updating weights using gradient descent\n",
    "eta= 1.0/10**7\n",
    "\n",
    "class matrixMultiplicationLayer:\n",
    "    def __init__(self, nueronsCnt, featuresCnt):\n",
    "        self.X = np.array([])\n",
    "        self.weights = np.array([[0 for j in range(nueronsCnt)] for i in range(featuresCnt)])\n",
    "    \n",
    "    def forwardPass(self, X):\n",
    "        self.X = X\n",
    "        \n",
    "        # Computing N = XW\n",
    "        return np.dot(self.X, self.weights)\n",
    "    \n",
    "    def backwardPass(self, out_grad):\n",
    "      \n",
    "        # Computing dL/dw\n",
    "        WGrad = np.dot(self.X.T,out_grad)\n",
    "        \n",
    "        # Computing dL/dx\n",
    "        XGrad = np.dot(out_grad, self.weights.T)\n",
    "        \n",
    "        # Updating weights using Gradient descent\n",
    "        self.weights = self.weights - eta*WGrad\n",
    "        \n",
    "        return XGrad"
   ]
  },
  {
   "cell_type": "code",
   "execution_count": null,
   "metadata": {
    "id": "uUaQ4E0LHdkt"
   },
   "outputs": [],
   "source": [
    "class biasLayer:\n",
    "    def __init__(self,nueronsCnt):\n",
    "        self.N = np.array([])\n",
    "        self.B = np.array([[0 for i in range(nueronsCnt)]])\n",
    "  \n",
    "    def forwardPass(self,N):\n",
    "        self.N = N\n",
    "        \n",
    "        # Computing P = XW + B = N + B\n",
    "        return self.N + self.B\n",
    "    \n",
    "    def backwardPass(self,out_grad):\n",
    "\n",
    "        # Computing dL/dB\n",
    "        biasGrad = out_grad.sum(axis=0)\n",
    "        \n",
    "        # Updating B using Gradient descent\n",
    "        self.B = self.B - eta*biasGrad\n",
    "        \n",
    "        return out_grad                     "
   ]
  },
  {
   "cell_type": "code",
   "execution_count": null,
   "metadata": {
    "id": "npIdZZB9H0yn"
   },
   "outputs": [],
   "source": [
    "class meanSquaredLossLayer:\n",
    "    def forwardPass(self, P ,Y):\n",
    "\n",
    "        # Loss = Sum_i[ ( P_i - Y_i )^2 ]  = (P-Y)^t(P-Y)\n",
    "        loss = np.dot((P - Y).T,(P - Y))\n",
    "        return loss\n",
    "    \n",
    "    def backwardPass(self, P, Y):\n",
    "      \n",
    "        # Computing dL/dP \n",
    "        lossGrad = 2*(P-Y)       \n",
    "        return lossGrad"
   ]
  },
  {
   "cell_type": "code",
   "execution_count": null,
   "metadata": {
    "id": "_HPeEEJxf_a6"
   },
   "outputs": [],
   "source": [
    "class softmaxLayer:\n",
    "\n",
    "    def forwardPass(self, P):\n",
    "      out = np.exp(P)\n",
    "      for s in range(len(out)):\n",
    "        out[s] /= np.sum(out[s])\n",
    "      return out\n",
    "\n",
    "    def backwardPass(self, P, Y, W, X):\n",
    "        \n",
    "        # Instantitating the crossEntropyLossLayer & doing the backward pass.\n",
    "        cLayer = crossEntropyLossLayer()\n",
    "        outGrad = cLayer.backwardPass(P, Y, W, X)\n",
    "\n",
    "        # Instantitating the softmax layer & doing the forward pass.\n",
    "        sLayer = softmaxLayer()\n",
    "        out = sLayer.forwardPass(P)\n",
    "       \n",
    "        # Initialising the derivatives.\n",
    "        n = np.size(out)\n",
    "        dL_dB = np.zeros(O)\n",
    "        dL_dP = np.zeros((D, O))\n",
    "        dE_dP = np.dot((np.identity(n) - np.transpose(out)) * out, outGrad).T\n",
    "\n",
    "        # Computing the gradients dL/dB and dL/dP & returning them.\n",
    "        for sample in range(len(out)):\n",
    "            for d in range(D):\n",
    "                dL_dP[d] += X[sample][d] * dE_dP[0]\n",
    "\n",
    "        dL_dB += dE_dP[0]\n",
    "\n",
    "        return (dL_dP, dL_dB)"
   ]
  },
  {
   "cell_type": "code",
   "execution_count": null,
   "metadata": {
    "id": "3DC1AHknf_Uk"
   },
   "outputs": [],
   "source": [
    "class sigmoidLayer:\n",
    "    \n",
    "    def forwardPass(self,z):\n",
    "      # a = sigmoid(z)\n",
    "      a = 1/(1 + np.exp(-z))\n",
    "      return a\n",
    "\n",
    "    # da/dz\n",
    "    def backwardPass(self,a,z):\n",
    "        return a*(1-a)"
   ]
  },
  {
   "cell_type": "code",
   "execution_count": null,
   "metadata": {
    "id": "IhW-e5js5TMa"
   },
   "outputs": [],
   "source": [
    "class crossEntropyLossLayer:\n",
    "\n",
    "    def forwardPass(self, P, Y):\n",
    "\n",
    "        # Instantitating the softmax layer & doing the forward pass.\n",
    "        sLayer = softmaxLayer()\n",
    "        sOutput = sLayer.forwardPass(P)\n",
    "\n",
    "        # Computing & returning the loss.\n",
    "        loss = np.dot ( Y, np.log(sOutput) )\n",
    "        return loss\n",
    "\n",
    "    def backwardPass(self, P, Y, W, X):\n",
    "        \n",
    "        # Instantitating the softmax layer & doing the forward pass.\n",
    "        sLayer = softmaxLayer()\n",
    "        sOutput = sLayer.forwardPass(P)\n",
    "\n",
    "         # Computing & returning the output gradients.\n",
    "        outGrad = -np.multiply(np.array(Y), np.reciprocal(sOutput)) \n",
    "        outGrad = outGrad + np.multiply(1 - np.array(Y), np.reciprocal(1 - sOutput)) \n",
    "        return np.transpose(outGrad)\n",
    "          "
   ]
  },
  {
   "cell_type": "markdown",
   "metadata": {
    "id": "nm8dvmFr81_D"
   },
   "source": [
    "## 2. Using the sklearn.load boston() function, obtain boston house pricing dataset.\n",
    "Train a regression model using the operations implemented above. You need to\n",
    "write a stochastic gradient descent function to train."
   ]
  },
  {
   "cell_type": "code",
   "execution_count": null,
   "metadata": {
    "colab": {
     "base_uri": "https://localhost:8080/"
    },
    "id": "wwbnU-9n83rb",
    "outputId": "ca32c554-fff2-4d9b-c51f-13225dcab3cf"
   },
   "outputs": [
    {
     "name": "stderr",
     "output_type": "stream",
     "text": [
      "/usr/local/lib/python3.7/dist-packages/sklearn/utils/deprecation.py:87: FutureWarning: Function load_boston is deprecated; `load_boston` is deprecated in 1.0 and will be removed in 1.2.\n",
      "\n",
      "    The Boston housing prices dataset has an ethical problem. You can refer to\n",
      "    the documentation of this function for further details.\n",
      "\n",
      "    The scikit-learn maintainers therefore strongly discourage the use of this\n",
      "    dataset unless the purpose of the code is to study and educate about\n",
      "    ethical issues in data science and machine learning.\n",
      "\n",
      "    In this special case, you can fetch the dataset from the original\n",
      "    source::\n",
      "\n",
      "        import pandas as pd\n",
      "        import numpy as np\n",
      "\n",
      "\n",
      "        data_url = \"http://lib.stat.cmu.edu/datasets/boston\"\n",
      "        raw_df = pd.read_csv(data_url, sep=\"\\s+\", skiprows=22, header=None)\n",
      "        data = np.hstack([raw_df.values[::2, :], raw_df.values[1::2, :2]])\n",
      "        target = raw_df.values[1::2, 2]\n",
      "\n",
      "    Alternative datasets include the California housing dataset (i.e.\n",
      "    :func:`~sklearn.datasets.fetch_california_housing`) and the Ames housing\n",
      "    dataset. You can load the datasets as follows::\n",
      "\n",
      "        from sklearn.datasets import fetch_california_housing\n",
      "        housing = fetch_california_housing()\n",
      "\n",
      "    for the California housing dataset and::\n",
      "\n",
      "        from sklearn.datasets import fetch_openml\n",
      "        housing = fetch_openml(name=\"house_prices\", as_frame=True)\n",
      "\n",
      "    for the Ames housing dataset.\n",
      "    \n",
      "  warnings.warn(msg, category=FutureWarning)\n"
     ]
    }
   ],
   "source": [
    "# Reading the dataset.\n",
    "X,Y = datasets.load_boston(return_X_y=True)\n",
    "\n",
    "# Changing the type of Y to ease the computation.\n",
    "Y = np.array([[i] for i in Y])\n",
    "\n",
    "# Splitting the data into training & testing sets.\n",
    "X_train, X_test, Y_train, Y_test = train_test_split(X, Y, test_size = 0.2)"
   ]
  },
  {
   "cell_type": "code",
   "execution_count": null,
   "metadata": {
    "colab": {
     "base_uri": "https://localhost:8080/"
    },
    "id": "Rl_1cGK-I-WA",
    "outputId": "c40d69b4-a90a-4557-a5fa-8abad83493dc"
   },
   "outputs": [
    {
     "name": "stdout",
     "output_type": "stream",
     "text": [
      "(404, 13) (102, 13)\n"
     ]
    }
   ],
   "source": [
    "print(X_train.shape, X_test.shape)"
   ]
  },
  {
   "cell_type": "code",
   "execution_count": null,
   "metadata": {
    "id": "gRX_Lw46JIBO"
   },
   "outputs": [],
   "source": [
    "# Function that trains a regression model using stochastic gradient descent.\n",
    "def trainUsingSGD( X,Y,iterCounter):\n",
    "    \n",
    "    # Creating a matrix multiplication layer with just one nueron.\n",
    "    mMLayer = matrixMultiplicationLayer(1,len(X[0]))\n",
    "    \n",
    "    # Creating a bias & loss layer corresponding to it.\n",
    "    bLayer   = biasLayer(1)\n",
    "    lLayer   = meanSquaredLossLayer()\n",
    "\n",
    "    lossStore = []\n",
    "\n",
    "    for _ in range(iterCounter):\n",
    "        for j in range(len(X)):\n",
    "\n",
    "            # Current data point.\n",
    "            x = np.array([X[j]])\n",
    "            y = Y[j]\n",
    "\n",
    "            # Making the forward passes corresponding to the three layers consecutively.\n",
    "            N = mMLayer.forwardPass(x)\n",
    "            P = bLayer.forwardPass(N)\n",
    "            L = lLayer.forwardPass(P, y)\n",
    "            \n",
    "            # Making the backward passes corresponding to the three layers consecutively.\n",
    "            dL_dP = lLayer.backwardPass(P, y)\n",
    "            dL_dN = bLayer.backwardPass(dL_dP)\n",
    "            dl_dX = mMLayer.backwardPass(dL_dN)\n",
    "\n",
    "        N = mMLayer.forwardPass(X)\n",
    "        P = bLayer.forwardPass(N)\n",
    "        currLoss = lLayer.forwardPass(P,Y)\n",
    "        lossStore.append(currLoss[0][0])\n",
    "\n",
    "    # Returning the weights \n",
    "    W = mMLayer.weights\n",
    "    B = bLayer.B\n",
    "    return (W, B, lossStore)   "
   ]
  },
  {
   "cell_type": "code",
   "execution_count": null,
   "metadata": {
    "id": "CGWueTKVJaNd"
   },
   "outputs": [],
   "source": [
    "# Now, let's train the model.\n",
    "W, B, lossStore = trainUsingSGD(X_train,Y_train,100*len(X_train))        "
   ]
  },
  {
   "cell_type": "code",
   "execution_count": null,
   "metadata": {
    "colab": {
     "base_uri": "https://localhost:8080/",
     "height": 279
    },
    "id": "Zx4grj-QKuA4",
    "outputId": "115fa54a-f62b-40c2-d94e-452b92b43289"
   },
   "outputs": [
    {
     "data": {
      "image/png": "[encoded data removed]",
      "text/plain": [
       "<Figure size 432x288 with 1 Axes>"
      ]
     },
     "metadata": {
      "needs_background": "light"
     },
     "output_type": "display_data"
    }
   ],
   "source": [
    "plt.scatter(range(len(lossStore)),lossStore)\n",
    "plt.xlabel(\"Iterations\")\n",
    "plt.ylabel(\"Loss on Training set\")\n",
    "plt.show()"
   ]
  },
  {
   "cell_type": "code",
   "execution_count": null,
   "metadata": {
    "colab": {
     "base_uri": "https://localhost:8080/"
    },
    "id": "7D4H4zZtnIhY",
    "outputId": "c7ae52f5-ddd3-4a7c-c403-6245afe510ef"
   },
   "outputs": [
    {
     "data": {
      "text/plain": [
       "(array([[-1.11905301e-01],\n",
       "        [ 6.85504599e-02],\n",
       "        [-1.49979793e-02],\n",
       "        [ 4.99657006e-01],\n",
       "        [ 2.39760652e-01],\n",
       "        [ 5.06719577e+00],\n",
       "        [ 1.10295673e-04],\n",
       "        [-9.90561951e-01],\n",
       "        [ 2.22164130e-01],\n",
       "        [-9.87519835e-03],\n",
       "        [-2.43903049e-01],\n",
       "        [ 1.94691199e-02],\n",
       "        [-4.33478257e-01]]), array([[0.61786848]]))"
      ]
     },
     "execution_count": 13,
     "metadata": {},
     "output_type": "execute_result"
    }
   ],
   "source": [
    "W,B"
   ]
  },
  {
   "cell_type": "markdown",
   "metadata": {
    "id": "rKR5e_hB_ihL"
   },
   "source": [
    "#### Checking the Model performance on test data"
   ]
  },
  {
   "cell_type": "code",
   "execution_count": null,
   "metadata": {
    "colab": {
     "base_uri": "https://localhost:8080/"
    },
    "id": "eWOkgiuKnPpq",
    "outputId": "53111ce7-06c7-4244-cd62-6e8e74eae1ae"
   },
   "outputs": [
    {
     "name": "stdout",
     "output_type": "stream",
     "text": [
      "[[25.84829629]]\n"
     ]
    }
   ],
   "source": [
    "# Making the prediction on the test data.\n",
    "P = np.dot(X_test, W) + B\n",
    "Y = Y_test\n",
    "\n",
    "# Computing the mean squared error\n",
    "loss = np.dot((P - Y).T,(P - Y))\n",
    "print(loss/len(X_test))"
   ]
  },
  {
   "cell_type": "markdown",
   "metadata": {
    "id": "AS6XtFxh85eX"
   },
   "source": [
    "## 3. Load the iris dataset in sklearn. This data sets consists of 3 different types of irises’ (Setosa, Versicolour, and Virginica) petal and sepal length, stored in a 150x4 numpy.ndarray. Using the operations implemented above create a multi-class classifier (Cross entropy loss + soft max)"
   ]
  },
  {
   "cell_type": "code",
   "execution_count": null,
   "metadata": {
    "colab": {
     "base_uri": "https://localhost:8080/",
     "height": 206
    },
    "id": "l-W6wGCjSj3q",
    "outputId": "994c62df-55ea-47ae-ad77-1445cac92b8d"
   },
   "outputs": [
    {
     "data": {
      "text/html": [
       "\n",
       "  <div id=\"df-f825f177-408b-4193-9aa6-bb9788abfd9c\">\n",
       "    <div class=\"colab-df-container\">\n",
       "      <div>\n",
       "<style scoped>\n",
       "    .dataframe tbody tr th:only-of-type {\n",
       "        vertical-align: middle;\n",
       "    }\n",
       "\n",
       "    .dataframe tbody tr th {\n",
       "        vertical-align: top;\n",
       "    }\n",
       "\n",
       "    .dataframe thead th {\n",
       "        text-align: right;\n",
       "    }\n",
       "</style>\n",
       "<table border=\"1\" class=\"dataframe\">\n",
       "  <thead>\n",
       "    <tr style=\"text-align: right;\">\n",
       "      <th></th>\n",
       "      <th>sepal length (cm)</th>\n",
       "      <th>sepal width (cm)</th>\n",
       "      <th>petal length (cm)</th>\n",
       "      <th>petal width (cm)</th>\n",
       "      <th>type</th>\n",
       "    </tr>\n",
       "  </thead>\n",
       "  <tbody>\n",
       "    <tr>\n",
       "      <th>0</th>\n",
       "      <td>0.222222</td>\n",
       "      <td>0.625000</td>\n",
       "      <td>0.067797</td>\n",
       "      <td>0.041667</td>\n",
       "      <td>[1, 0, 0]</td>\n",
       "    </tr>\n",
       "    <tr>\n",
       "      <th>1</th>\n",
       "      <td>0.166667</td>\n",
       "      <td>0.416667</td>\n",
       "      <td>0.067797</td>\n",
       "      <td>0.041667</td>\n",
       "      <td>[1, 0, 0]</td>\n",
       "    </tr>\n",
       "    <tr>\n",
       "      <th>2</th>\n",
       "      <td>0.111111</td>\n",
       "      <td>0.500000</td>\n",
       "      <td>0.050847</td>\n",
       "      <td>0.041667</td>\n",
       "      <td>[1, 0, 0]</td>\n",
       "    </tr>\n",
       "    <tr>\n",
       "      <th>3</th>\n",
       "      <td>0.083333</td>\n",
       "      <td>0.458333</td>\n",
       "      <td>0.084746</td>\n",
       "      <td>0.041667</td>\n",
       "      <td>[1, 0, 0]</td>\n",
       "    </tr>\n",
       "    <tr>\n",
       "      <th>4</th>\n",
       "      <td>0.194444</td>\n",
       "      <td>0.666667</td>\n",
       "      <td>0.067797</td>\n",
       "      <td>0.041667</td>\n",
       "      <td>[1, 0, 0]</td>\n",
       "    </tr>\n",
       "  </tbody>\n",
       "</table>\n",
       "</div>\n",
       "      <button class=\"colab-df-convert\" onclick=\"convertToInteractive('df-f825f177-408b-4193-9aa6-bb9788abfd9c')\"\n",
       "              title=\"Convert this dataframe to an interactive table.\"\n",
       "              style=\"display:none;\">\n",
       "        \n",
       "  <svg xmlns=\"http://www.w3.org/2000/svg\" height=\"24px\"viewBox=\"0 0 24 24\"\n",
       "       width=\"24px\">\n",
       "    <path d=\"M0 0h24v24H0V0z\" fill=\"none\"/>\n",
       "    <path d=\"M18.56 5.44l.94 2.06.94-2.06 2.06-.94-2.06-.94-.94-2.06-.94 2.06-2.06.94zm-11 1L8.5 8.5l.94-2.06 2.06-.94-2.06-.94L8.5 2.5l-.94 2.06-2.06.94zm10 10l.94 2.06.94-2.06 2.06-.94-2.06-.94-.94-2.06-.94 2.06-2.06.94z\"/><path d=\"M17.41 7.96l-1.37-1.37c-.4-.4-.92-.59-1.43-.59-.52 0-1.04.2-1.43.59L10.3 9.45l-7.72 7.72c-.78.78-.78 2.05 0 2.83L4 21.41c.39.39.9.59 1.41.59.51 0 1.02-.2 1.41-.59l7.78-7.78 2.81-2.81c.8-.78.8-2.07 0-2.86zM5.41 20L4 18.59l7.72-7.72 1.47 1.35L5.41 20z\"/>\n",
       "  </svg>\n",
       "      </button>\n",
       "      \n",
       "  <style>\n",
       "    .colab-df-container {\n",
       "      display:flex;\n",
       "      flex-wrap:wrap;\n",
       "      gap: 12px;\n",
       "    }\n",
       "\n",
       "    .colab-df-convert {\n",
       "      background-color: #E8F0FE;\n",
       "      border: none;\n",
       "      border-radius: 50%;\n",
       "      cursor: pointer;\n",
       "      display: none;\n",
       "      fill: #1967D2;\n",
       "      height: 32px;\n",
       "      padding: 0 0 0 0;\n",
       "      width: 32px;\n",
       "    }\n",
       "\n",
       "    .colab-df-convert:hover {\n",
       "      background-color: #E2EBFA;\n",
       "      box-shadow: 0px 1px 2px rgba(60, 64, 67, 0.3), 0px 1px 3px 1px rgba(60, 64, 67, 0.15);\n",
       "      fill: #174EA6;\n",
       "    }\n",
       "\n",
       "    [theme=dark] .colab-df-convert {\n",
       "      background-color: #3B4455;\n",
       "      fill: #D2E3FC;\n",
       "    }\n",
       "\n",
       "    [theme=dark] .colab-df-convert:hover {\n",
       "      background-color: #434B5C;\n",
       "      box-shadow: 0px 1px 3px 1px rgba(0, 0, 0, 0.15);\n",
       "      filter: drop-shadow(0px 1px 2px rgba(0, 0, 0, 0.3));\n",
       "      fill: #FFFFFF;\n",
       "    }\n",
       "  </style>\n",
       "\n",
       "      <script>\n",
       "        const buttonEl =\n",
       "          document.querySelector('#df-f825f177-408b-4193-9aa6-bb9788abfd9c button.colab-df-convert');\n",
       "        buttonEl.style.display =\n",
       "          google.colab.kernel.accessAllowed ? 'block' : 'none';\n",
       "\n",
       "        async function convertToInteractive(key) {\n",
       "          const element = document.querySelector('#df-f825f177-408b-4193-9aa6-bb9788abfd9c');\n",
       "          const dataTable =\n",
       "            await google.colab.kernel.invokeFunction('convertToInteractive',\n",
       "                                                     [key], {});\n",
       "          if (!dataTable) return;\n",
       "\n",
       "          const docLinkHtml = 'Like what you see? Visit the ' +\n",
       "            '<a target=\"_blank\" href=https://colab.research.google.com/notebooks/data_table.ipynb>data table notebook</a>'\n",
       "            + ' to learn more about interactive tables.';\n",
       "          element.innerHTML = '';\n",
       "          dataTable['output_type'] = 'display_data';\n",
       "          await google.colab.output.renderOutput(dataTable, element);\n",
       "          const docLink = document.createElement('div');\n",
       "          docLink.innerHTML = docLinkHtml;\n",
       "          element.appendChild(docLink);\n",
       "        }\n",
       "      </script>\n",
       "    </div>\n",
       "  </div>\n",
       "  "
      ],
      "text/plain": [
       "   sepal length (cm)  sepal width (cm)  petal length (cm)  petal width (cm)  \\\n",
       "0           0.222222          0.625000           0.067797          0.041667   \n",
       "1           0.166667          0.416667           0.067797          0.041667   \n",
       "2           0.111111          0.500000           0.050847          0.041667   \n",
       "3           0.083333          0.458333           0.084746          0.041667   \n",
       "4           0.194444          0.666667           0.067797          0.041667   \n",
       "\n",
       "        type  \n",
       "0  [1, 0, 0]  \n",
       "1  [1, 0, 0]  \n",
       "2  [1, 0, 0]  \n",
       "3  [1, 0, 0]  \n",
       "4  [1, 0, 0]  "
      ]
     },
     "execution_count": 15,
     "metadata": {},
     "output_type": "execute_result"
    }
   ],
   "source": [
    "# Loading the dataset and making a dataframe.\n",
    "iris = datasets.load_iris()\n",
    "iris_df = pd.DataFrame(iris.data, columns=iris.feature_names)\n",
    "\n",
    "# Scaling the dataframe.\n",
    "iris_df = (iris_df - iris_df.min()) / (iris_df.max() - iris_df.min())\n",
    "\n",
    "# Making the type column and doing encoding & then dropping the temporary columns.\n",
    "iris_df['type'] = iris.target\n",
    "iris_df = pd.get_dummies(iris_df, columns = ['type'])\n",
    "iris_df['type'] = iris_df[['type_0', 'type_1', 'type_2']].values.tolist()\n",
    "iris_df.drop( ['type_0', 'type_1', 'type_2'], axis = 1, inplace = True )\n",
    "\n",
    "# Examining the dataset\n",
    "iris_df.head()"
   ]
  },
  {
   "cell_type": "code",
   "execution_count": null,
   "metadata": {
    "colab": {
     "base_uri": "https://localhost:8080/",
     "height": 206
    },
    "id": "xJLJWc52bf9N",
    "outputId": "b203c005-a29b-4920-fbfc-aef08f968e01"
   },
   "outputs": [
    {
     "data": {
      "text/html": [
       "\n",
       "  <div id=\"df-f3fd74ec-aaa3-487d-93ab-79def5b105bd\">\n",
       "    <div class=\"colab-df-container\">\n",
       "      <div>\n",
       "<style scoped>\n",
       "    .dataframe tbody tr th:only-of-type {\n",
       "        vertical-align: middle;\n",
       "    }\n",
       "\n",
       "    .dataframe tbody tr th {\n",
       "        vertical-align: top;\n",
       "    }\n",
       "\n",
       "    .dataframe thead th {\n",
       "        text-align: right;\n",
       "    }\n",
       "</style>\n",
       "<table border=\"1\" class=\"dataframe\">\n",
       "  <thead>\n",
       "    <tr style=\"text-align: right;\">\n",
       "      <th></th>\n",
       "      <th>0</th>\n",
       "      <th>1</th>\n",
       "      <th>2</th>\n",
       "      <th>3</th>\n",
       "      <th>4</th>\n",
       "    </tr>\n",
       "  </thead>\n",
       "  <tbody>\n",
       "    <tr>\n",
       "      <th>0</th>\n",
       "      <td>0.222222</td>\n",
       "      <td>0.625000</td>\n",
       "      <td>0.067797</td>\n",
       "      <td>0.041667</td>\n",
       "      <td>[1, 0, 0]</td>\n",
       "    </tr>\n",
       "    <tr>\n",
       "      <th>1</th>\n",
       "      <td>0.166667</td>\n",
       "      <td>0.416667</td>\n",
       "      <td>0.067797</td>\n",
       "      <td>0.041667</td>\n",
       "      <td>[1, 0, 0]</td>\n",
       "    </tr>\n",
       "    <tr>\n",
       "      <th>2</th>\n",
       "      <td>0.111111</td>\n",
       "      <td>0.500000</td>\n",
       "      <td>0.050847</td>\n",
       "      <td>0.041667</td>\n",
       "      <td>[1, 0, 0]</td>\n",
       "    </tr>\n",
       "    <tr>\n",
       "      <th>3</th>\n",
       "      <td>0.083333</td>\n",
       "      <td>0.458333</td>\n",
       "      <td>0.084746</td>\n",
       "      <td>0.041667</td>\n",
       "      <td>[1, 0, 0]</td>\n",
       "    </tr>\n",
       "    <tr>\n",
       "      <th>4</th>\n",
       "      <td>0.194444</td>\n",
       "      <td>0.666667</td>\n",
       "      <td>0.067797</td>\n",
       "      <td>0.041667</td>\n",
       "      <td>[1, 0, 0]</td>\n",
       "    </tr>\n",
       "  </tbody>\n",
       "</table>\n",
       "</div>\n",
       "      <button class=\"colab-df-convert\" onclick=\"convertToInteractive('df-f3fd74ec-aaa3-487d-93ab-79def5b105bd')\"\n",
       "              title=\"Convert this dataframe to an interactive table.\"\n",
       "              style=\"display:none;\">\n",
       "        \n",
       "  <svg xmlns=\"http://www.w3.org/2000/svg\" height=\"24px\"viewBox=\"0 0 24 24\"\n",
       "       width=\"24px\">\n",
       "    <path d=\"M0 0h24v24H0V0z\" fill=\"none\"/>\n",
       "    <path d=\"M18.56 5.44l.94 2.06.94-2.06 2.06-.94-2.06-.94-.94-2.06-.94 2.06-2.06.94zm-11 1L8.5 8.5l.94-2.06 2.06-.94-2.06-.94L8.5 2.5l-.94 2.06-2.06.94zm10 10l.94 2.06.94-2.06 2.06-.94-2.06-.94-.94-2.06-.94 2.06-2.06.94z\"/><path d=\"M17.41 7.96l-1.37-1.37c-.4-.4-.92-.59-1.43-.59-.52 0-1.04.2-1.43.59L10.3 9.45l-7.72 7.72c-.78.78-.78 2.05 0 2.83L4 21.41c.39.39.9.59 1.41.59.51 0 1.02-.2 1.41-.59l7.78-7.78 2.81-2.81c.8-.78.8-2.07 0-2.86zM5.41 20L4 18.59l7.72-7.72 1.47 1.35L5.41 20z\"/>\n",
       "  </svg>\n",
       "      </button>\n",
       "      \n",
       "  <style>\n",
       "    .colab-df-container {\n",
       "      display:flex;\n",
       "      flex-wrap:wrap;\n",
       "      gap: 12px;\n",
       "    }\n",
       "\n",
       "    .colab-df-convert {\n",
       "      background-color: #E8F0FE;\n",
       "      border: none;\n",
       "      border-radius: 50%;\n",
       "      cursor: pointer;\n",
       "      display: none;\n",
       "      fill: #1967D2;\n",
       "      height: 32px;\n",
       "      padding: 0 0 0 0;\n",
       "      width: 32px;\n",
       "    }\n",
       "\n",
       "    .colab-df-convert:hover {\n",
       "      background-color: #E2EBFA;\n",
       "      box-shadow: 0px 1px 2px rgba(60, 64, 67, 0.3), 0px 1px 3px 1px rgba(60, 64, 67, 0.15);\n",
       "      fill: #174EA6;\n",
       "    }\n",
       "\n",
       "    [theme=dark] .colab-df-convert {\n",
       "      background-color: #3B4455;\n",
       "      fill: #D2E3FC;\n",
       "    }\n",
       "\n",
       "    [theme=dark] .colab-df-convert:hover {\n",
       "      background-color: #434B5C;\n",
       "      box-shadow: 0px 1px 3px 1px rgba(0, 0, 0, 0.15);\n",
       "      filter: drop-shadow(0px 1px 2px rgba(0, 0, 0, 0.3));\n",
       "      fill: #FFFFFF;\n",
       "    }\n",
       "  </style>\n",
       "\n",
       "      <script>\n",
       "        const buttonEl =\n",
       "          document.querySelector('#df-f3fd74ec-aaa3-487d-93ab-79def5b105bd button.colab-df-convert');\n",
       "        buttonEl.style.display =\n",
       "          google.colab.kernel.accessAllowed ? 'block' : 'none';\n",
       "\n",
       "        async function convertToInteractive(key) {\n",
       "          const element = document.querySelector('#df-f3fd74ec-aaa3-487d-93ab-79def5b105bd');\n",
       "          const dataTable =\n",
       "            await google.colab.kernel.invokeFunction('convertToInteractive',\n",
       "                                                     [key], {});\n",
       "          if (!dataTable) return;\n",
       "\n",
       "          const docLinkHtml = 'Like what you see? Visit the ' +\n",
       "            '<a target=\"_blank\" href=https://colab.research.google.com/notebooks/data_table.ipynb>data table notebook</a>'\n",
       "            + ' to learn more about interactive tables.';\n",
       "          element.innerHTML = '';\n",
       "          dataTable['output_type'] = 'display_data';\n",
       "          await google.colab.output.renderOutput(dataTable, element);\n",
       "          const docLink = document.createElement('div');\n",
       "          docLink.innerHTML = docLinkHtml;\n",
       "          element.appendChild(docLink);\n",
       "        }\n",
       "      </script>\n",
       "    </div>\n",
       "  </div>\n",
       "  "
      ],
      "text/plain": [
       "          0         1         2         3          4\n",
       "0  0.222222  0.625000  0.067797  0.041667  [1, 0, 0]\n",
       "1  0.166667  0.416667  0.067797  0.041667  [1, 0, 0]\n",
       "2  0.111111  0.500000  0.050847  0.041667  [1, 0, 0]\n",
       "3  0.083333  0.458333  0.084746  0.041667  [1, 0, 0]\n",
       "4  0.194444  0.666667  0.067797  0.041667  [1, 0, 0]"
      ]
     },
     "execution_count": 16,
     "metadata": {},
     "output_type": "execute_result"
    }
   ],
   "source": [
    "# Renaming the columns for ease of computation.\n",
    "iris_df.columns = range(0,5)\n",
    "\n",
    "# Examining the dataset\n",
    "iris_df.head()"
   ]
  },
  {
   "cell_type": "code",
   "execution_count": null,
   "metadata": {
    "id": "EEfjJjD_Sj6L"
   },
   "outputs": [],
   "source": [
    "# Number of samples.\n",
    "N = iris_df.shape[0] \n",
    "\n",
    "# Number of features\n",
    "D = iris_df.shape[1] - 1\n",
    "\n",
    "# Number of output classes/types.\n",
    "O = 3  \n",
    "\n",
    "# Making X,Y  using the dataset.\n",
    "X = np.ones((N, D))\n",
    "for i in range(N):\n",
    "    for j in range(D):\n",
    "      X[i][j] = iris_df[j][i]\n",
    "Y = np.array(iris_df[4])\n",
    "\n",
    "# Splitting the data into training & testing sets.\n",
    "X_train, X_test, Y_train, Y_test = train_test_split(X, Y, test_size = 0.2)\n",
    "\n",
    "train_cnt = len(X_train)\n",
    "test_cnt = len(X_test)"
   ]
  },
  {
   "cell_type": "code",
   "execution_count": null,
   "metadata": {
    "id": "OTfR1xJ7JyRz"
   },
   "outputs": [],
   "source": [
    "class trainMultiClassClassifier:\n",
    "    def __init__(self, X, W, B, eta, Y):\n",
    "        self.X = X\n",
    "        self.W = W\n",
    "        self.B = B\n",
    "        self.eta = eta\n",
    "        self.Y = Y\n",
    "\n",
    "    def forwardPass(self):\n",
    "\n",
    "        # Doing the matrix multiplocation & bias addition directly.\n",
    "        N = np.dot( self.X, self.W )\n",
    "        P = N + self.B\n",
    "\n",
    "        # Instantiating the softmax Layer & doing the forward pass.\n",
    "        sLayer = softmaxLayer()\n",
    "        P = sLayer.forwardPass(P)\n",
    "\n",
    "        # Once the forward pass is done, we are calling the backward pass.\n",
    "        return self.backwardPass(P)\n",
    "        \n",
    "    def backwardPass(self, P):\n",
    "\n",
    "        # Instantiating the softmax Layer & doing the backward pass.\n",
    "        sLayer = softmaxLayer()\n",
    "        gradP, gradB = sLayer.backwardPass(P, self.Y, self.W, self.X)\n",
    "\n",
    "        # Updating the W & B\n",
    "        self.W = self.W - self.eta * gradP / 2\n",
    "        self.B = self.B - self.eta * gradB / 2\n",
    "\n",
    "        return (self.W, self.B)"
   ]
  },
  {
   "cell_type": "code",
   "execution_count": null,
   "metadata": {
    "id": "MJL0R-iIJYud"
   },
   "outputs": [],
   "source": [
    "# Randomly initialising the W & B.\n",
    "W = np.array([[np.random.rand() for i in range(O)] for j in range(D)])\n",
    "B = [np.random.rand() for j in range(O)]\n",
    "\n",
    "# Training the classifier for \"train_cnt*100\" number of iterations.\n",
    "idx = 0\n",
    "for itr_cnt in range(train_cnt * 1000):\n",
    "    classifier = trainMultiClassClassifier([X_train[idx]], W, B, 0.01, Y_train[idx])\n",
    "    W, B = classifier.forwardPass()\n",
    "    idx = (idx + 1) % train_cnt     "
   ]
  },
  {
   "cell_type": "markdown",
   "metadata": {
    "id": "gTU54cYuinT1"
   },
   "source": [
    "#### Testing the performance of the classifier."
   ]
  },
  {
   "cell_type": "code",
   "execution_count": null,
   "metadata": {
    "colab": {
     "base_uri": "https://localhost:8080/"
    },
    "id": "-ZngHE-M9wpW",
    "outputId": "8847001e-450a-4175-e2e0-60f76e819244"
   },
   "outputs": [
    {
     "name": "stdout",
     "output_type": "stream",
     "text": [
      "The percentage of the samples classified correctly is:  96.66666666666667 %\n"
     ]
    }
   ],
   "source": [
    "correct_cnt = 0\n",
    "for cur_sample in range(len(X_test)):\n",
    "    \n",
    "    # Make the prediction on the current sample.\n",
    "    probabilities = ( np.dot ( X_test[cur_sample], W ) + B ) \n",
    "    pred = np.argmax(probabilities)\n",
    "    \n",
    "    # If the prediction is correct, increment the counter.\n",
    "    if Y_test[cur_sample][pred] == 1:\n",
    "        correct_cnt += 1\n",
    "  \n",
    "print(\"The percentage of the samples classified correctly is: \", (correct_cnt/test_cnt)*100,\"%\" )"
   ]
  },
  {
   "cell_type": "markdown",
   "metadata": {
    "id": "PumPKV-cisg6"
   },
   "source": [
    "## Observations of Q1-3:\n",
    "- In Q2, As the plot shows, the loss on training set is decreasing with increase in the number of iterations. The loss on testing data is not too optimal. But it can be reduced even by a large extent by training the model for more iterations. ( We tried training for even more iterations, but due to excess amount of time taken for computing, we stopped in the middle & trained for a fewer number of iterations. )\n",
    "- In Q3, The percentage of the samples classified correctly is around `85-97`%\n",
    "\n",
    "#### References:\n",
    "- https://towardsdatascience.com/neural-networks-from-scratch-easy-vs-hard-b26ddc2e89c7"
   ]
  }
 ],
 "metadata": {
  "colab": {
   "collapsed_sections": [
    "-0Vsl3Rg8sIw"
   ],
   "name": "Lab_4_Q1,2,3.ipynb",
   "provenance": []
  },
  "kernelspec": {
   "display_name": "Python 3",
   "language": "python",
   "name": "python3"
  },
  "language_info": {
   "codemirror_mode": {
    "name": "ipython",
    "version": 3
   },
   "file_extension": ".py",
   "mimetype": "text/x-python",
   "name": "python",
   "nbconvert_exporter": "python",
   "pygments_lexer": "ipython3",
   "version": "3.7.3"
  }
 },
 "nbformat": 4,
 "nbformat_minor": 1
}
