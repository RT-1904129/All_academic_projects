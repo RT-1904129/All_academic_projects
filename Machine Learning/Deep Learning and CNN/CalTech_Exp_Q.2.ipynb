{
 "cells": [
  {
   "cell_type": "markdown",
   "metadata": {},
   "source": [
    "### Q.2 Replicate the experiment described in the CalTech Lecture:11 Overfitting"
   ]
  },
  {
   "cell_type": "code",
   "execution_count": 1,
   "metadata": {},
   "outputs": [],
   "source": [
    "# Importing libraries and important modules\n",
    "import math\n",
    "import random\n",
    "import numpy as np\n",
    "import pandas as pd\n",
    "import seaborn as sns\n",
    "import matplotlib.pyplot as plt\n",
    "from sklearn import metrics\n",
    "from sklearn.metrics import confusion_matrix\n",
    "from sklearn.model_selection import train_test_split\n",
    "from sklearn.metrics import classification_report\n",
    "from sklearn.datasets import make_blobs\n",
    "from sklearn.metrics import mean_squared_error\n",
    "from sklearn.preprocessing import PolynomialFeatures\n",
    "from sklearn.linear_model import LinearRegression\n",
    "from math import log\n",
    "from scipy.optimize import curve_fit"
   ]
  },
  {
   "cell_type": "markdown",
   "metadata": {},
   "source": [
    "#### Impact of Noise Level and Target Complexity"
   ]
  },
  {
   "cell_type": "code",
   "execution_count": 2,
   "metadata": {},
   "outputs": [],
   "source": [
    "# Generating Legendre Polynomials\n",
    "def P(n, x): \n",
    "    if(n == 0):\n",
    "        return 1 # P0 = 1\n",
    "    elif(n == 1):\n",
    "        return x # P1 = x\n",
    "    else:\n",
    "        return (((2 * n)-1)*x * P(n-1, x)-(n-1)*P(n-2, x))/float(n)"
   ]
  },
  {
   "cell_type": "code",
   "execution_count": 3,
   "metadata": {},
   "outputs": [],
   "source": [
    "# Function to generate data samples of the form y = summation (aq*x^q) + ep(x) (from q=0 to Qf complexity)\n",
    "# s:Noise level, q:Model Complexity, n:Data set size; higher order coefficients generated as per legendre polynomials\n",
    "\n",
    "#Generating Data for training \n",
    "def data_generator(s,n,q):\n",
    "    xv=np.arange(0,n) #Evenly spaced x values\n",
    "    yv=[]\n",
    "    for i in range(0,n):\n",
    "        c=0\n",
    "        for j in range(0,q+1):\n",
    "            c=c+P(j,xv[i])\n",
    "        y=c+np.random.normal(0,s) #Adds noise\n",
    "        yv.append(y)\n",
    "    return xv,yv\n",
    "\n",
    "#Generating Data for testing\n",
    "def data_generator_test(n,q):\n",
    "    xv=np.arange(0,n)\n",
    "    yv=[]\n",
    "    for i in range(0,n):\n",
    "        c=0\n",
    "        for j in range(0,q+1):\n",
    "            c=c+P(j,xv[i])\n",
    "        y=c\n",
    "        yv.append(y)\n",
    "    return xv,yv"
   ]
  },
  {
   "cell_type": "markdown",
   "metadata": {},
   "source": [
    "#### Impact of Noise Levels for different number of data points"
   ]
  },
  {
   "cell_type": "code",
   "execution_count": 9,
   "metadata": {},
   "outputs": [],
   "source": [
    "# List of Noise Levels (Gaussian Variance)\n",
    "s=list(np.linspace(0,3,40))\n",
    "# List of Data Points\n",
    "Nd=list(np.linspace(10,150,40,dtype='int'))\n",
    "\n",
    "# Fitting a polynomial of degree 2\n",
    "def noise_level_2(n):\n",
    "    I2=[] # List to store In-Sample error generated upon fitting a 2 degree polynomial for given dataset size n\n",
    "    O2=[] # List to store Out-of-Sample error generated upon fitting a 2 degree polynomial for given dataset size n\n",
    "    X_test,Y_test=data_generator_test(10*n,11)\n",
    "    for i in s:   \n",
    "    # Generating the dataset using helper function defined earlier with a particular variance i\n",
    "    # Assume a Fixed Model Complexity of 11\n",
    "        X,Y=data_generator(i,n,11)\n",
    "        poly_reg = PolynomialFeatures(degree=2)\n",
    "        X_poly = poly_reg.fit_transform(np.array(X).reshape(-1,1))\n",
    "        X_poly_test = poly_reg.fit_transform(np.array(X_test).reshape(-1,1))\n",
    "        pol_reg_model = LinearRegression()\n",
    "        pol_reg_model.fit(X_poly, Y)\n",
    "        Y_pred_i=pol_reg_model.predict(X_poly)\n",
    "        Y_pred_o=pol_reg_model.predict(X_poly_test)\n",
    "        I2.append(mean_squared_error(Y_pred_i,Y))\n",
    "        O2.append(mean_squared_error(Y_pred_o,Y_test))   \n",
    "    return I2,O2\n",
    "\n",
    "I_2=[] # A List to store lists of In-sample errors for different dataset sizes upon fitting a 2 degree polynomial\n",
    "O_2=[] # A List to store lists of Out-of-sample errors for different dataset sizes upon fitting a 2 degree polynomial\n",
    "for i in Nd:\n",
    "    m,n=noise_level_2(i)\n",
    "    I_2.append(m)\n",
    "    O_2.append(n)"
   ]
  },
  {
   "cell_type": "code",
   "execution_count": 10,
   "metadata": {},
   "outputs": [],
   "source": [
    "# List of Noise Levels (Gaussian Variance)\n",
    "s=list(np.linspace(0,3,40))\n",
    "# List of Data Points\n",
    "Nd=list(np.linspace(10,150,40,dtype='int'))\n",
    "\n",
    "def noise_level_10(n):\n",
    "    I10=[] # List to store In-Sample error generated upon fitting a 10 degree polynomial for given dataset size n\n",
    "    O10=[] # List to store Out-of-Sample error generated upon fitting 10 degree polynomial for given dataset size n\n",
    "    X_test,Y_test=data_generator_test(10*n,11)\n",
    "    for i in s:   \n",
    "    # Generating the dataset using helper function defined earlier with a particular variance i\n",
    "    # Assume a Fixed Model Complexity of 11\n",
    "        X,Y=data_generator(i,n,11)\n",
    "        poly_reg = PolynomialFeatures(degree=10)\n",
    "        X_poly = poly_reg.fit_transform(np.array(X).reshape(-1,1))\n",
    "        X_poly_test = poly_reg.fit_transform(np.array(X_test).reshape(-1,1))\n",
    "        pol_reg_model = LinearRegression()\n",
    "        pol_reg_model.fit(X_poly, Y)\n",
    "        Y_pred_i=pol_reg_model.predict(X_poly)\n",
    "        Y_pred_o=pol_reg_model.predict(X_poly_test)\n",
    "        I10.append(mean_squared_error(Y_pred_i,Y))\n",
    "        O10.append(mean_squared_error(Y_pred_o,Y_test))  \n",
    "    return I10,O10\n",
    "\n",
    "I_10=[] # A List to store lists of In-sample errors for different dataset sizes upon fitting a 10 degree polynomial\n",
    "O_10=[] # A List to store lists of Out-of-sample errors for different dataset sizes upon fitting a 10 degree polynomial\n",
    "for i in Nd:\n",
    "    x,y=noise_level_10(i)\n",
    "    I_10.append(x)\n",
    "    O_10.append(y)"
   ]
  },
  {
   "cell_type": "code",
   "execution_count": 11,
   "metadata": {},
   "outputs": [],
   "source": [
    "#Storing the calculated overfit measure for each value of variance for given number of points\n",
    "overfit_n=[] \n",
    "for i in range(len(O_10)):\n",
    "    m=[]\n",
    "    for j in range(len(s)):\n",
    "        m.append(O_10[i][j]-O_2[i][j])\n",
    "    overfit_n.append(m)"
   ]
  },
  {
   "cell_type": "code",
   "execution_count": 12,
   "metadata": {},
   "outputs": [],
   "source": [
    "overfit_array=np.array(overfit_n)"
   ]
  },
  {
   "cell_type": "code",
   "execution_count": 13,
   "metadata": {},
   "outputs": [
    {
     "name": "stderr",
     "output_type": "stream",
     "text": [
      "C:\\Users\\Sneha\\Anaconda3\\lib\\site-packages\\ipykernel_launcher.py:6: MatplotlibDeprecationWarning: shading='flat' when X and Y have the same dimensions as C is deprecated since 3.3.  Either specify the corners of the quadrilaterals with X and Y, or pass shading='auto', 'nearest' or 'gouraud', or set rcParams['pcolor.shading'].  This will become an error two minor releases later.\n",
      "  \n"
     ]
    },
    {
     "data": {
      "image/png": "[encoded data removed]",
      "text/plain": [
       "<Figure size 432x288 with 2 Axes>"
      ]
     },
     "metadata": {
      "needs_background": "light"
     },
     "output_type": "display_data"
    }
   ],
   "source": [
    "# To visualize the impact of noise levels on overfitting via an intensity plot\n",
    "import matplotlib.pyplot as plt\n",
    "from matplotlib.colors import BoundaryNorm\n",
    "from matplotlib.ticker import MaxNLocator\n",
    "y,x=np.meshgrid(s,Nd)\n",
    "c = plt.pcolormesh(x, y, overfit_array, cmap ='rainbow')\n",
    "plt.xlabel(\"Number of data points\")\n",
    "plt.ylabel(\"Noise levels\")\n",
    "plt.colorbar(c)\n",
    "plt.show()\n"
   ]
  },
  {
   "cell_type": "markdown",
   "metadata": {},
   "source": [
    "#### Impact of Target complexity for different number of data points"
   ]
  },
  {
   "cell_type": "code",
   "execution_count": 4,
   "metadata": {},
   "outputs": [],
   "source": [
    "# List of Complexity levels\n",
    "c=list(np.linspace(1,15,5))\n",
    "# List of Data Points\n",
    "Nd=list(np.linspace(10,150,50,dtype='int'))\n",
    "\n",
    "def complexity_level_2(n):\n",
    "    I2=[] # List to store In-Sample error generated upon fitting a 2 degree polynomial for given dataset size n\n",
    "    O2=[] # List to store Out-of-Sample error generated upon fitting a 2 degree polynomial for given dataset size n\n",
    "    for i in c:\n",
    "    # Generating the dataset with fixed variance 1 and a particular target complexity i\n",
    "        X,Y=data_generator(1,n,int(i))\n",
    "        X_test,Y_test=data_generator_test(10*n,int(i))\n",
    "        poly_reg = PolynomialFeatures(degree=2)\n",
    "        X_poly = poly_reg.fit_transform(np.array(X).reshape(-1,1))\n",
    "        X_poly_test = poly_reg.fit_transform(np.array(X_test).reshape(-1,1))\n",
    "        pol_reg_model = LinearRegression()\n",
    "        pol_reg_model.fit(X_poly, Y)\n",
    "        Y_pred_i=pol_reg_model.predict(X_poly)\n",
    "        Y_pred_o=pol_reg_model.predict(X_poly_test)\n",
    "        I2.append(mean_squared_error(Y_pred_i,Y))\n",
    "        O2.append(mean_squared_error(Y_pred_o,Y_test))   \n",
    "    return I2,O2\n",
    "\n",
    "I_2_c=[] # A List to store lists of In-sample errors for different dataset sizes upon fitting a 2 degree polynomial\n",
    "O_2_c=[] # A List to store lists of Out-of-sample errors for different dataset sizes upon fitting a 2 degree polynomial\n",
    "for i in Nd:\n",
    "    x,y=complexity_level_2(i)\n",
    "    I_2_c.append(x)\n",
    "    O_2_c.append(y)"
   ]
  },
  {
   "cell_type": "code",
   "execution_count": 5,
   "metadata": {},
   "outputs": [],
   "source": [
    "# List of Complexity levels\n",
    "c=list(np.linspace(1,15,5))\n",
    "# List of Data Points\n",
    "Nd=list(np.linspace(10,150,50,dtype='int'))\n",
    "\n",
    "def complexity_level_10(n):\n",
    "    I10=[] # List to store In-Sample error generated upon fitting a 10 degree polynomial for given dataset size n\n",
    "    O10=[] # List to store Out-of-Sample error generated upon fitting a 10 degree polynomial for given dataset size n\n",
    "    for i in c:\n",
    "        # Generating the dataset with fixed variance 1 and a particular target complexity i\n",
    "        X,Y=data_generator(1,n,int(i))\n",
    "        X_test,Y_test=data_generator_test(10*n,int(i))\n",
    "        poly_reg = PolynomialFeatures(degree=10)\n",
    "        X_poly = poly_reg.fit_transform(np.array(X).reshape(-1,1))\n",
    "        X_poly_test = poly_reg.fit_transform(np.array(X_test).reshape(-1,1))\n",
    "        pol_reg_model = LinearRegression()\n",
    "        pol_reg_model.fit(X_poly, Y)\n",
    "        Y_pred_i=pol_reg_model.predict(X_poly)\n",
    "        Y_pred_o=pol_reg_model.predict(X_poly_test)\n",
    "        I10.append(mean_squared_error(Y_pred_i,Y))\n",
    "        O10.append(mean_squared_error(Y_pred_o,Y_test)) \n",
    "    return I10,O10\n",
    "\n",
    "I_10_c=[] # A List to store lists of In-sample errors for different dataset sizes upon fitting a 10 degree polynomial\n",
    "O_10_c=[] # A List to store lists of Out-of-sample errors for different dataset sizes upon fitting a 10 degree polynomial\n",
    "for i in Nd:\n",
    "    x,y=complexity_level_10(i)\n",
    "    I_10_c.append(x)\n",
    "    O_10_c.append(y)"
   ]
  },
  {
   "cell_type": "code",
   "execution_count": 6,
   "metadata": {},
   "outputs": [],
   "source": [
    "#Storing the calculated overfit measure for each value of target complexity for given number of points\n",
    "overfit_c=[] \n",
    "for i in range(len(O_10_c)):\n",
    "    m=[]\n",
    "    for j in range(len(c)):\n",
    "        m.append(O_10_c[i][j]-O_2_c[i][j])\n",
    "    overfit_c.append(m)"
   ]
  },
  {
   "cell_type": "code",
   "execution_count": 7,
   "metadata": {},
   "outputs": [],
   "source": [
    "overfit_array_c=np.array(overfit_c)"
   ]
  },
  {
   "cell_type": "code",
   "execution_count": 8,
   "metadata": {},
   "outputs": [
    {
     "name": "stderr",
     "output_type": "stream",
     "text": [
      "C:\\Users\\Sneha\\Anaconda3\\lib\\site-packages\\ipykernel_launcher.py:6: MatplotlibDeprecationWarning: shading='flat' when X and Y have the same dimensions as C is deprecated since 3.3.  Either specify the corners of the quadrilaterals with X and Y, or pass shading='auto', 'nearest' or 'gouraud', or set rcParams['pcolor.shading'].  This will become an error two minor releases later.\n",
      "  \n"
     ]
    },
    {
     "data": {
      "image/png": "[encoded data removed]",
      "text/plain": [
       "<Figure size 432x288 with 1 Axes>"
      ]
     },
     "metadata": {
      "needs_background": "light"
     },
     "output_type": "display_data"
    }
   ],
   "source": [
    "# To visualize the impact of target complexity on overfitting via an intensity plot\n",
    "import matplotlib.pyplot as plt\n",
    "from matplotlib.colors import BoundaryNorm\n",
    "from matplotlib.ticker import MaxNLocator\n",
    "y,x=np.meshgrid(c,Nd)\n",
    "c = plt.pcolormesh(x, y, overfit_array_c, cmap ='rainbow')\n",
    "plt.xlabel(\"Number of data points\")\n",
    "plt.ylabel(\"Target complexity\")\n",
    "# plt.colorbar(c)\n",
    "plt.show()"
   ]
  },
  {
   "cell_type": "markdown",
   "metadata": {},
   "source": [
    "#### Observations:\n",
    "1. We would like to observe the effects of Noise levels, Complexity of target and Data set size on overfitting.\n",
    "2. Overfit measure is taken as the difference between the out-of sample errors obtained between a 10th order & a 2nd order fit.\n",
    "3. A positive overfit measure implies the existence of high overfitting; a negative overfit measure implies that the higher order fit performs better and that there is no overfitting.\n",
    "4. x takes evenly-spaced values between 0 and n and the coefficients of higher order terms are given as per the Legendre Polynomials.The error is assumed to be gaussian and the datasets for training and testing are generated separately.\n",
    "5. The 2nd order and 10th order polynomials are fit using the Polynomial Features class and the fit regression model is used to predict on the test set. This is performed for a number of different dataset sizes for: (i) Different values of noise levels (variances) with a fixed model complexity of 11 and (ii) Different levels of target complexity for a fixed variance value 1.\n",
    "6. The calculated overfit measure is used to plot the results, where the noise levels and target complexity is taken on the Y-axis while the number of data points is taken on the x-axis. The colour of the plots is determined by the intensity of the calculated overfit measure.\n",
    "7. From the plot 1, we can observe that as noise levels increase, overfitting worsens for a given set of data points.\n",
    "8. From the plot 1, we can observe that an increase in the data points leads to a reduction in overfitting.\n",
    "9. From the plot 2, we can observe that as target complexity increases, overfitting worsens for a given set of data points while an increase in the data points causes less overfitting.\n",
    "10. The plot 1 basically depicts the impact of **Stochastic noise** on overfitting. On the other hand, plot 2 depicts **Deterministic noise** arising due to a complex target function that is not being captured by the hypothesis set, that ends up causing overfitting.\n",
    "11. As shown in the Caltech lecture, the effect of overfitting in Plot 2 can be observed significantly for target complexity close to 10 and above. The effect of target complexity values of above 15 could not be shown due to extremely long computation times."
   ]
  },
  {
   "cell_type": "markdown",
   "metadata": {},
   "source": [
    "#### References:"
   ]
  },
  {
   "cell_type": "markdown",
   "metadata": {},
   "source": [
    "1. CalTech:Lecture 11, Overfitting, https://www.youtube.com/watch?v=EQWr3GGCdzw&t=1744s\n",
    "2. Polynomial Regression in Python, https://data36.com/polynomial-regression-python-scikit-learn/"
   ]
  }
 ],
 "metadata": {
  "kernelspec": {
   "display_name": "Python 3",
   "language": "python",
   "name": "python3"
  },
  "language_info": {
   "codemirror_mode": {
    "name": "ipython",
    "version": 3
   },
   "file_extension": ".py",
   "mimetype": "text/x-python",
   "name": "python",
   "nbconvert_exporter": "python",
   "pygments_lexer": "ipython3",
   "version": "3.7.3"
  }
 },
 "nbformat": 4,
 "nbformat_minor": 2
}
