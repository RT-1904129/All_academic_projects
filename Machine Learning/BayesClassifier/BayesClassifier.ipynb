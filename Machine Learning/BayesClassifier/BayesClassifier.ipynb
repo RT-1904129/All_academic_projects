{
 "cells": [
  {
   "cell_type": "markdown",
   "metadata": {
    "id": "UAQGPs8Wm58b"
   },
   "source": [
    "## Q.1 Create a synthetic dataset for the credit default problem. You may choose priors suitably. Generate 10^4 points from your model. Using the generated dataset evaluate a) Bayes Classifier and b) Classifier which has a randomization built in. "
   ]
  },
  {
   "cell_type": "markdown",
   "metadata": {
    "id": "SZjj8sVhm58d"
   },
   "source": [
    "### a) Bayes Classifier evaluated on Synthetic Dataset"
   ]
  },
  {
   "cell_type": "code",
   "execution_count": null,
   "metadata": {
    "id": "19RHe-ALm58e"
   },
   "outputs": [],
   "source": [
    "# Importing libraries and important modules\n",
    "import math\n",
    "import random\n",
    "import numpy as np\n",
    "import pandas as pd\n",
    "import seaborn as sns\n",
    "import matplotlib.pyplot as plt\n",
    "from sklearn import metrics\n",
    "from sklearn.metrics import confusion_matrix\n",
    "from sklearn.metrics import classification_report"
   ]
  },
  {
   "cell_type": "markdown",
   "metadata": {
    "id": "SDgFfmbVm58l"
   },
   "source": [
    "We assume `N=10000` Data points and the Prior probabilities `p0=P(Y=0)=0.8` and `p1=P(Y=1)=0.2` for our Bayes Classifier where\n",
    " - `Y=1` denotes a credit default \n",
    " - `Y=0` denotes no credit default."
   ]
  },
  {
   "cell_type": "code",
   "execution_count": null,
   "metadata": {
    "id": "YrpV1n21m58m"
   },
   "outputs": [],
   "source": [
    "# Setting number of data points and Prior probabilities\n",
    "N=10000 \n",
    "p0=0.8 \n",
    "p1=0.2"
   ]
  },
  {
   "cell_type": "code",
   "execution_count": null,
   "metadata": {
    "id": "14JQNXdYm58m"
   },
   "outputs": [],
   "source": [
    "# Defining Probability Density for Normal Distribution function for given value of x, Mean and Standard Deviation\n",
    "def normal_distrib(x,Mean,Sd): \n",
    "    k = math.sqrt( 1/(2*np.pi*Sd*Sd))\n",
    "    prob_density = k * np.exp(-0.5*((x-Mean)/Sd)**2)\n",
    "    return prob_density"
   ]
  },
  {
   "cell_type": "code",
   "execution_count": null,
   "metadata": {
    "id": "5jPHH2z1m58n"
   },
   "outputs": [],
   "source": [
    "# Defining a Normal Distribution function f0(x) with Mean=-1 and Standard Deviation=1\n",
    "def f0(x):\n",
    "    return normal_distrib(x,-1,1)"
   ]
  },
  {
   "cell_type": "code",
   "execution_count": null,
   "metadata": {
    "id": "oD5mbLHDm58n"
   },
   "outputs": [],
   "source": [
    "# Defining a Normal Distribution function f1(x) with Mean=1 and Standard Deviation=1\n",
    "def f1(x):\n",
    "    return normal_distrib(x,1,1)"
   ]
  },
  {
   "cell_type": "code",
   "execution_count": null,
   "metadata": {
    "id": "rO21HS13m58o"
   },
   "outputs": [],
   "source": [
    "# List to store generated Data Points.\n",
    "data=[]                         \n",
    "for i in range(N):\n",
    "\n",
    "   # Performing a Single Random Binomial Trial with probability p1\n",
    "    Yc=np.random.binomial(1,p1,1)[0] \n",
    "    \n",
    "    if(Yc==0):\n",
    "        # Choosing 1 sample from Normal distribution with Mean= -1, Standard Deviation=1\n",
    "        Xc = np.random.normal(-1,1,1)\n",
    "    else:\n",
    "        # Choosing 1 sample from Normal distribution with Mean= 1, Standard Deviation=1\n",
    "        Xc = np.random.normal(1,1,1)\n",
    "   \n",
    "    # Adding the generated Data Point to our Dataset (Feature+Output)\n",
    "    data.append([Xc,Yc])"
   ]
  },
  {
   "cell_type": "code",
   "execution_count": null,
   "metadata": {
    "id": "G0vb-RWvm58p"
   },
   "outputs": [],
   "source": [
    "# Defining the Bayes Classifier\n",
    "def bayes_classifier(xi):\n",
    "\n",
    "    # Calculating the Posteriors q0(x), q1(x) on a data point xi\n",
    "    q0=(p0*f0(xi))/(p0*f0(xi)+p1*f1(xi))  \n",
    "    q1=(p1*f1(xi))/(p0*f0(xi)+p1*f1(xi))\n",
    "\n",
    "    # If q1(x)>=q0(x), the hypothesis predicts a value 1 otherwise 0\n",
    "    if ( q1 >= q0 ):                          \n",
    "        return 1\n",
    "    else:\n",
    "        return 0"
   ]
  },
  {
   "cell_type": "code",
   "execution_count": null,
   "metadata": {
    "id": "Bc9RygbGm58p"
   },
   "outputs": [],
   "source": [
    "# Lists to store predicted output values and observed values.\n",
    "pred_a = []\n",
    "obs_a = [] \n",
    "for i in range(N):\n",
    "    pred_a.append(bayes_classifier(data[i][0])) \n",
    "    obs_a.append(data[i][1])                    "
   ]
  },
  {
   "cell_type": "code",
   "execution_count": null,
   "metadata": {
    "id": "m6we7huym58q"
   },
   "outputs": [],
   "source": [
    "# Generating the Confusion Matrix and Classification Report for Bayes Classifier.\n",
    "confMatrix_a = confusion_matrix(pred_a, obs_a)\n",
    "report_a = classification_report(pred_a, obs_a)"
   ]
  },
  {
   "cell_type": "code",
   "execution_count": null,
   "metadata": {
    "colab": {
     "base_uri": "https://localhost:8080/"
    },
    "id": "ue8iXZ3Wm58q",
    "outputId": "a9ea76ec-4d21-40e5-9a9d-dbef9ddd5a65"
   },
   "outputs": [
    {
     "name": "stdout",
     "output_type": "stream",
     "text": [
      "[[7645  751]\n",
      " [ 360 1244]]\n"
     ]
    }
   ],
   "source": [
    "print(confMatrix_a)"
   ]
  },
  {
   "cell_type": "code",
   "execution_count": null,
   "metadata": {
    "colab": {
     "base_uri": "https://localhost:8080/"
    },
    "id": "1-Fln1Bim58r",
    "outputId": "718b1a37-a59f-4895-a0c1-fdd34d65bdcf"
   },
   "outputs": [
    {
     "name": "stdout",
     "output_type": "stream",
     "text": [
      "              precision    recall  f1-score   support\n",
      "\n",
      "           0       0.96      0.91      0.93      8396\n",
      "           1       0.62      0.78      0.69      1604\n",
      "\n",
      "    accuracy                           0.89     10000\n",
      "   macro avg       0.79      0.84      0.81     10000\n",
      "weighted avg       0.90      0.89      0.89     10000\n",
      "\n"
     ]
    }
   ],
   "source": [
    "print(report_a)"
   ]
  },
  {
   "cell_type": "code",
   "execution_count": null,
   "metadata": {
    "colab": {
     "base_uri": "https://localhost:8080/",
     "height": 307
    },
    "id": "0_L9wfm4m58r",
    "outputId": "e753aa4c-d367-4a13-c72c-7eacee01cf8c"
   },
   "outputs": [
    {
     "data": {
      "image/png": "[encoded data removed]",
      "text/plain": [
       "<Figure size 432x288 with 2 Axes>"
      ]
     },
     "metadata": {
      "needs_background": "light"
     },
     "output_type": "display_data"
    }
   ],
   "source": [
    "# Seaborn Heatmap of the Confusion Matrix\n",
    "ax = sns.heatmap(confMatrix_a, annot=True, cmap='Blues')\n",
    "ax.set_title('Confusion Matrix with labels')\n",
    "ax.set_xlabel('\\nPredicted Values')\n",
    "ax.set_ylabel('Actual Values')\n",
    "\n",
    "# To Display the visualization of the Confusion Matrix.\n",
    "plt.show() "
   ]
  },
  {
   "cell_type": "code",
   "execution_count": null,
   "metadata": {
    "colab": {
     "base_uri": "https://localhost:8080/"
    },
    "id": "XyfHewe_m58r",
    "outputId": "f04a742a-cea6-45d1-c1a2-4f27a5cbf5d0"
   },
   "outputs": [
    {
     "name": "stdout",
     "output_type": "stream",
     "text": [
      "Accuracy of Bayes Classifier on the synthetic Dataset(%): 88.89 %\n"
     ]
    }
   ],
   "source": [
    "print(\"Accuracy of Bayes Classifier on the synthetic Dataset(%):\",metrics.accuracy_score(pred_a, obs_a)*100, \"%\")"
   ]
  },
  {
   "cell_type": "markdown",
   "metadata": {
    "id": "IAtK0MvUm58s"
   },
   "source": [
    "### b) Classifier with Randomization built in evaluated on Synthetic Dataset"
   ]
  },
  {
   "cell_type": "code",
   "execution_count": null,
   "metadata": {
    "id": "0gJsobn0m58s"
   },
   "outputs": [],
   "source": [
    "# Defining the Classifier with Randomization built in\n",
    "def classifier_random():\n",
    "    \n",
    "    # Random Variable(z) as a single Binomial Trial with p1 probability that z=1\n",
    "    z = np.random.binomial(1,p1,1)[0]\n",
    "\n",
    "    # If z=0, return 0; if z=1, return 1 as the predicted output\n",
    "    return z                           "
   ]
  },
  {
   "cell_type": "code",
   "execution_count": null,
   "metadata": {
    "id": "jvxKVPqRm58s"
   },
   "outputs": [],
   "source": [
    "# Lists to store predicted output values and observed values.\n",
    "pred_b=[] \n",
    "obs_b=[] \n",
    "for i in range(N):\n",
    "    pred_b.append(classifier_random())       \n",
    "    obs_b.append(data[i][1])                    "
   ]
  },
  {
   "cell_type": "code",
   "execution_count": null,
   "metadata": {
    "id": "fTDPStISm58s"
   },
   "outputs": [],
   "source": [
    "# Generating the Confusion Matrix and Classification Report for Classifier with Randomization built in\n",
    "confMatrix_b=confusion_matrix(pred_b, obs_b)\n",
    "report_b=classification_report(pred_b, obs_b)"
   ]
  },
  {
   "cell_type": "code",
   "execution_count": null,
   "metadata": {
    "colab": {
     "base_uri": "https://localhost:8080/"
    },
    "id": "YrXKuMBjm58t",
    "outputId": "df2ae2f0-703a-48ce-b1a0-1e76e152b4fe"
   },
   "outputs": [
    {
     "name": "stdout",
     "output_type": "stream",
     "text": [
      "[[6475 1582]\n",
      " [1530  413]]\n"
     ]
    }
   ],
   "source": [
    "print(confMatrix_b)"
   ]
  },
  {
   "cell_type": "code",
   "execution_count": null,
   "metadata": {
    "colab": {
     "base_uri": "https://localhost:8080/"
    },
    "id": "w4xNWuIom58t",
    "outputId": "008b268e-8d07-41b9-a7d8-0326b350ba53"
   },
   "outputs": [
    {
     "name": "stdout",
     "output_type": "stream",
     "text": [
      "              precision    recall  f1-score   support\n",
      "\n",
      "           0       0.81      0.80      0.81      8057\n",
      "           1       0.21      0.21      0.21      1943\n",
      "\n",
      "    accuracy                           0.69     10000\n",
      "   macro avg       0.51      0.51      0.51     10000\n",
      "weighted avg       0.69      0.69      0.69     10000\n",
      "\n"
     ]
    }
   ],
   "source": [
    "print(report_b)"
   ]
  },
  {
   "cell_type": "code",
   "execution_count": null,
   "metadata": {
    "colab": {
     "base_uri": "https://localhost:8080/",
     "height": 307
    },
    "id": "moXA3Dkvm58t",
    "outputId": "5a40eb2d-7c99-4185-9633-06793e022db2"
   },
   "outputs": [
    {
     "data": {
      "image/png": "[encoded data removed]",
      "text/plain": [
       "<Figure size 432x288 with 2 Axes>"
      ]
     },
     "metadata": {
      "needs_background": "light"
     },
     "output_type": "display_data"
    }
   ],
   "source": [
    "# Seaborn Heatmap of the Confusion Matrix\n",
    "ax = sns.heatmap(confMatrix_b, annot=True, cmap='Blues') \n",
    "ax.set_title('Confusion Matrix with labels')\n",
    "ax.set_xlabel('\\nPredicted Values')\n",
    "ax.set_ylabel('Actual Values')\n",
    "\n",
    "# To Display the visualization of the Confusion Matrix.\n",
    "plt.show() "
   ]
  },
  {
   "cell_type": "code",
   "execution_count": null,
   "metadata": {
    "colab": {
     "base_uri": "https://localhost:8080/"
    },
    "id": "FPX8hLKTm58u",
    "outputId": "829984db-2870-42d4-8043-eee2baec5215"
   },
   "outputs": [
    {
     "name": "stdout",
     "output_type": "stream",
     "text": [
      "Accuracy of Classifier with Randomization built in on the synthetic Dataset(%): 68.88 %\n"
     ]
    }
   ],
   "source": [
    "print(\"Accuracy of Classifier with Randomization built in on the synthetic Dataset(%):\",metrics.accuracy_score(pred_b, obs_b)*100, \"%\")"
   ]
  },
  {
   "cell_type": "markdown",
   "metadata": {
    "id": "0PNI_DWK4itt"
   },
   "source": [
    "**Observations:**\n",
    "\n",
    "1. The Bayes Classifier built by comparing the posterior probabilities q0(x) and q1(x) produces an accuracy of close to **88.89%** on the synthetic dataset. where,\n",
    " * Posteriors q0(x), q1(x):\n",
    "    * q0(x) = p0f0(x)/(p0f0(x)+p1f1(x))\n",
    "    * q1(x) = p1f1(x)/(p0f0(x)+p1f1(x))\n",
    "  * Bayes Classifier H( x ):\n",
    "    * H( x ) = 1, when q1( x ) >= q0( x )\n",
    "    * H( x ) = 0, when q1( x ) < q0( x )\n",
    "2. The Classifier with Randomization built in produces an accuracy of close to **68.88%** on the synthetic dataset. It utilizes the probability of a Random Variable z taking a value 0 or 1 to decide the outcome of the hypothesis. where,\n",
    " *   priors P( z ):\n",
    "        * P(z = 0) = 0.8\n",
    "        * P(z = 1) = 0.2\n",
    " *   Hb(x, z): \n",
    "          * Hb(x, 0) = 0, when z = 0\n",
    "          * Hb(x, 1) = 1, when z = 1 \n",
    "3. We observe that the Classifier with Randomization built in has a lower accuracy that the Bayes Classifier. This shows that including more Randomness in the hypothesis function to predict the outcome doesn't guarantee an accurate prediction and is not useful.\n",
    "\n",
    "4. The Bayes classifier has a higher accuracy and depicts that a deterministic hypothesis function is better for predicting an accurate outcome. Hence, it can be used to make real-time predictions.\n",
    "\n",
    "5. The Confusion Matrices for both the classifiers shows the number of True positives, True negatives, False positives & False negatives predicted by our model. We observe that among the values predicted accurately, the no. of non-defaulters is larger than defaulters which is in accordance to our assumed prior probabilities.\n",
    "\n"
   ]
  },
  {
   "cell_type": "markdown",
   "metadata": {
    "id": "q44uiYpNnXz9"
   },
   "source": [
    "*The End*\n",
    "\n",
    "---\n",
    "\n",
    "\n"
   ]
  }
 ],
 "metadata": {
  "colab": {
   "collapsed_sections": [],
   "name": "Lab1_1.ipynb",
   "provenance": []
  },
  "kernelspec": {
   "display_name": "Python 3",
   "language": "python",
   "name": "python3"
  },
  "language_info": {
   "codemirror_mode": {
    "name": "ipython",
    "version": 3
   },
   "file_extension": ".py",
   "mimetype": "text/x-python",
   "name": "python",
   "nbconvert_exporter": "python",
   "pygments_lexer": "ipython3",
   "version": "3.7.3"
  }
 },
 "nbformat": 4,
 "nbformat_minor": 1
}
