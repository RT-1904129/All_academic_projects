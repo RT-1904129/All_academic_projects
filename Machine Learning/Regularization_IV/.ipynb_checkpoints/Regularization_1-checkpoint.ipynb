{
 "cells": [
  {
   "cell_type": "markdown",
   "metadata": {},
   "source": [
    "### Q.1 Generate points with the model y = ax+b+ε where epsilon is standard gaussian. x is distributed as uniform rv between [0,10]. Train a linear regression model with following polynomials-  2,5,10. Study the out of sample performance for each of the above. Compare this when training dataset size is changed."
   ]
  },
  {
   "cell_type": "code",
   "execution_count": 97,
   "metadata": {},
   "outputs": [],
   "source": [
    "# Importing libraries and important modules\n",
    "import math\n",
    "import random\n",
    "import numpy as np\n",
    "import pandas as pd\n",
    "import seaborn as sns\n",
    "import matplotlib.pyplot as plt\n",
    "from sklearn import metrics\n",
    "from sklearn.metrics import confusion_matrix\n",
    "from sklearn.metrics import r2_score\n",
    "from sklearn.metrics import classification_report"
   ]
  },
  {
   "cell_type": "code",
   "execution_count": 98,
   "metadata": {},
   "outputs": [],
   "source": [
    "# Setting the number of data points\n",
    "N=100000"
   ]
  },
  {
   "cell_type": "code",
   "execution_count": 99,
   "metadata": {},
   "outputs": [],
   "source": [
    "#Lists to store generated input x, epsilon values for training\n",
    "x=[]\n",
    "e=[]\n",
    "for i in range(N):\n",
    "    x.append(np.random.uniform(0,10)) #x-Uniform Random Variable\n",
    "    e.append(np.random.normal(0,1)) #Epsilon-Standard Gaussian"
   ]
  },
  {
   "cell_type": "code",
   "execution_count": 100,
   "metadata": {},
   "outputs": [],
   "source": [
    "# Defining the MSE Loss Function\n",
    "def loss(y,y_pred):\n",
    "    loss=np.mean((y_pred-y)**2)\n",
    "    return loss"
   ]
  },
  {
   "cell_type": "code",
   "execution_count": 101,
   "metadata": {},
   "outputs": [],
   "source": [
    "# Calculating gradient of loss w.r.t parameters (weights and bias).\n",
    "def gradients(X, y, y_pred):\n",
    "    # X: Input\n",
    "    # y: True value\n",
    "    # y_pred: Predicted value from the hypothesis\n",
    "    # w: weights (parameter)\n",
    "    # b: bias (parameter)\n",
    "    # m: number of training examples.\n",
    "    \n",
    "    m = X.shape[0]\n",
    "    # Gradient of loss w.r.t weights.\n",
    "    dw = (1/m)*np.dot(X.T, (y_pred - y))\n",
    "    # Gradient of loss w.r.t bias.\n",
    "    db = (1/m)*np.sum((y_pred - y)) \n",
    "    return dw, db"
   ]
  },
  {
   "cell_type": "code",
   "execution_count": 102,
   "metadata": {},
   "outputs": [],
   "source": [
    "# Adding Features (Polynomials of different degrees)\n",
    "def x_transform(X, d):\n",
    "    # X: Input\n",
    "    # d: List of exponents that act on X\n",
    "    t = X.copy()\n",
    "    # Appending columns of higher degrees to X\n",
    "    for i in d:\n",
    "        X = np.append(X, t**i, axis=1)        \n",
    "    return X"
   ]
  },
  {
   "cell_type": "code",
   "execution_count": 103,
   "metadata": {},
   "outputs": [],
   "source": [
    "# Generation of the Training Dataset\n",
    "def x_input(x,d):\n",
    "    # Let a=0.5 and b=0.25\n",
    "    a=0.5\n",
    "    b=0.25\n",
    "    # Transforming x to higher degrees\n",
    "    x_matrix = np.array(x)\n",
    "    x_matrix = x_matrix.reshape(N,1)\n",
    "    # d=[2] for Polynomial of Degree 2, d=[5,4,3,2] for Polynomial of Degree 5, d=[10,9,8,7,6,5,4,3,2] for Polynomial of Degree 10\n",
    "    x_t = x_transform(x_matrix,d) \n",
    "    y=[]\n",
    "    # Generating points with model y=ax+b+ε for Training\n",
    "    for i in range(N):\n",
    "        c=0\n",
    "        for j in range(len(d)+1):\n",
    "            c=c+x_t[i][j]\n",
    "        y.append((a*c+b+e[i]))\n",
    "    y_matrix = np.array(y)\n",
    "    return x_t,y_matrix\n"
   ]
  },
  {
   "cell_type": "code",
   "execution_count": 104,
   "metadata": {},
   "outputs": [],
   "source": [
    "# Function for training the Linear Regression model with Mini-Batch Gradient Descent\n",
    "def train(X, y, Batch , d, epochs, lr):\n",
    "    # X: Input\n",
    "    # y: True value\n",
    "    # Batch: Batch Size\n",
    "    # epochs: Number of iterations\n",
    "    # d: List of exponents that act on X\n",
    "    # lr: Learning rate\n",
    "    # m: number of training examples\n",
    "    # n: number of features \n",
    "    \n",
    "    # Adding features to input X\n",
    "    x_train = X\n",
    "    m = x_train.shape[0]\n",
    "    n = x_train.shape[1]\n",
    "    # Initializing weights and bias to zeros\n",
    "    w = np.zeros((n,1))\n",
    "    b = 0\n",
    "    # Reshape y\n",
    "    y = y.reshape(m,1)\n",
    "    # List to store losses\n",
    "    losses = []\n",
    "    # Training loop using Mini-Batch Gradient Descent\n",
    "    for epoch in range(epochs):\n",
    "        for i in range((m-1)//Batch + 1):\n",
    "            # Defining batches\n",
    "            start_i = i*Batch\n",
    "            end_i = start_i + Batch\n",
    "            xb = x_train[start_i:end_i]\n",
    "            yb = y[start_i:end_i]\n",
    "            # Calculating hypothesis\n",
    "            y_pred = np.dot(xb, w) + b\n",
    "            # Getting the gradients of loss w.r.t parameters.\n",
    "            dw, db = gradients(xb, yb, y_pred)\n",
    "            # Updating the parameters.\n",
    "            w -= lr*dw\n",
    "            b -= lr*db\n",
    "        \n",
    "        # Calculating loss and adding it in the list \n",
    "        l = loss(y, np.dot(x_train, w) + b)\n",
    "        losses.append(l)\n",
    "        \n",
    "    # returning weights, bias and losses as a List\n",
    "    return w, b, losses"
   ]
  },
  {
   "cell_type": "code",
   "execution_count": 105,
   "metadata": {},
   "outputs": [],
   "source": [
    "# Prediction on x with the estimated w,b values\n",
    "def predict(X, w, b, d):\n",
    "    # X: Input\n",
    "    # w: weights (parameter)\n",
    "    # b: bias (parameter)\n",
    "    # d: List of exponents that act on X\n",
    "    \n",
    "    # Returning predictions of Linear Regression Model\n",
    "    return np.dot(X, w) + b"
   ]
  },
  {
   "cell_type": "code",
   "execution_count": 106,
   "metadata": {},
   "outputs": [],
   "source": [
    "#Lists to store input x, epsilon values for testing (Out of Sample Performance)\n",
    "x_test=[]\n",
    "e_test=[]\n",
    "for i in range(N):\n",
    "    x_test.append(np.random.uniform(0,10)) #x-Uniform Random Variable\n",
    "    e_test.append(np.random.normal(0,1)) #Epsilon-Standard Gaussian"
   ]
  },
  {
   "cell_type": "code",
   "execution_count": 107,
   "metadata": {},
   "outputs": [],
   "source": [
    "# Generation of the Testing Dataset\n",
    "def x_input_test(x,d):\n",
    "    # Let a=0.5 and b=0.25\n",
    "    a=0.5\n",
    "    b=0.25\n",
    "    # Transforming x to higher degrees\n",
    "    x_matrix_test = np.array(x_test)\n",
    "    x_matrix_test = x_matrix_test.reshape(N,1)\n",
    "    # d=[2] for Polynomial of Degree 2, d=[5,4,3,2] for Polynomial of Degree 5, d=[10,9,8,7,6,5,4,3,2] for Polynomial of Degree 10\n",
    "    x_t_test = x_transform(x_matrix_test,d) \n",
    "    y_test=[]\n",
    "    # Generating points with model y=ax+b+ε for Testing\n",
    "    for i in range(N):\n",
    "        c=0\n",
    "        for j in range(len(d)+1):\n",
    "            c=c+x_t_test[i][j]\n",
    "        y_test.append((a*c+b+e[i]))\n",
    "    y_matrix_test = np.array(y_test)\n",
    "    return x_t_test,y_matrix_test"
   ]
  },
  {
   "cell_type": "code",
   "execution_count": 108,
   "metadata": {},
   "outputs": [],
   "source": [
    "# Generating Dataset for Training for Polynomial of Degree=2\n",
    "x_t_2, y_matrix_2=x_input(x,d=[2])"
   ]
  },
  {
   "cell_type": "code",
   "execution_count": 109,
   "metadata": {},
   "outputs": [],
   "source": [
    "# Training with the Generated Dataset when Degree of the Polynomial=2\n",
    "w_2, b_2, l_2 = train(x_t_2, y_matrix_2, Batch=100, d=[2] , epochs=100, lr=0.0001)"
   ]
  },
  {
   "cell_type": "code",
   "execution_count": 110,
   "metadata": {},
   "outputs": [],
   "source": [
    "# Predicting with the Generated Dataset when Degree of the Polynomial=2\n",
    "y_pred_2 = predict(x_t_2,w_2,b_2,d=[2])"
   ]
  },
  {
   "cell_type": "code",
   "execution_count": 111,
   "metadata": {},
   "outputs": [],
   "source": [
    "# Generating Dataset for Testing for Polynomial of Degree=2\n",
    "x_t_2_test, y_matrix_2_test=x_input_test(x_test,d=[2])"
   ]
  },
  {
   "cell_type": "code",
   "execution_count": 112,
   "metadata": {},
   "outputs": [
    {
     "data": {
      "text/plain": [
       "0.9963127353529011"
      ]
     },
     "execution_count": 112,
     "metadata": {},
     "output_type": "execute_result"
    }
   ],
   "source": [
    "# Performance on the Training Dataset for Polynomial of Degree=2\n",
    "r2score_2 = r2_score(y_matrix_2,y_pred_2)\n",
    "r2score_2"
   ]
  },
  {
   "cell_type": "code",
   "execution_count": 113,
   "metadata": {},
   "outputs": [],
   "source": [
    "# Study of Out of Sample Performance when Degree of the Polynomial=2\n",
    "y_pred_2_test=predict(x_t_2_test,w_2,b_2,d=[2])"
   ]
  },
  {
   "cell_type": "code",
   "execution_count": 114,
   "metadata": {},
   "outputs": [
    {
     "data": {
      "text/plain": [
       "0.9962972081402133"
      ]
     },
     "execution_count": 114,
     "metadata": {},
     "output_type": "execute_result"
    }
   ],
   "source": [
    "# Performance on the Testing Dataset for Polynomial of Degree=2\n",
    "r2score_2_test = r2_score(y_matrix_2_test,y_pred_2_test)\n",
    "r2score_2_test"
   ]
  },
  {
   "cell_type": "code",
   "execution_count": 115,
   "metadata": {},
   "outputs": [],
   "source": [
    "# Generating Dataset for Training for Polynomial of Degree=5\n",
    "x_t_5, y_matrix_5=x_input(x,d=[5,4,3,2])"
   ]
  },
  {
   "cell_type": "code",
   "execution_count": 116,
   "metadata": {},
   "outputs": [],
   "source": [
    "# Training with the Generated Dataset when Degree of the Polynomial=5\n",
    "w_5, b_5, l_5 = train(x_t_5,y_matrix_5, Batch=100, d=[5, 4, 3, 2] , epochs=100, lr=0.0000000001)"
   ]
  },
  {
   "cell_type": "code",
   "execution_count": 117,
   "metadata": {},
   "outputs": [],
   "source": [
    "# Predicting with the Generated Dataset when Degree of the Polynomial=5\n",
    "y_pred_5 = predict(x_t_5,w_5,b_5,d=[5, 4, 3, 2])"
   ]
  },
  {
   "cell_type": "code",
   "execution_count": 118,
   "metadata": {},
   "outputs": [],
   "source": [
    "# Generating Dataset for Testing for Polynomial of Degree=5\n",
    "x_t_5_test, y_matrix_5_test=x_input_test(x_test,d=[5,4,3,2])"
   ]
  },
  {
   "cell_type": "code",
   "execution_count": 119,
   "metadata": {},
   "outputs": [
    {
     "data": {
      "text/plain": [
       "0.9999809588736166"
      ]
     },
     "execution_count": 119,
     "metadata": {},
     "output_type": "execute_result"
    }
   ],
   "source": [
    "# Performance on the Training Dataset for Polynomial of Degree=5\n",
    "r2score_5 = r2_score(y_matrix_5,y_pred_5)\n",
    "r2score_5"
   ]
  },
  {
   "cell_type": "code",
   "execution_count": 120,
   "metadata": {},
   "outputs": [],
   "source": [
    "# Study of Out of Sample Performance when Degree of the Polynomial=5\n",
    "y_pred_5_test=predict(x_t_5_test,w_5,b_5,d=[5, 4, 3, 2])"
   ]
  },
  {
   "cell_type": "code",
   "execution_count": 121,
   "metadata": {},
   "outputs": [
    {
     "data": {
      "text/plain": [
       "0.9999809685253129"
      ]
     },
     "execution_count": 121,
     "metadata": {},
     "output_type": "execute_result"
    }
   ],
   "source": [
    "# Performance on the Testing Dataset for Polynomial of Degree=5\n",
    "r2score_5_test = r2_score(y_matrix_5_test,y_pred_5_test)\n",
    "r2score_5_test"
   ]
  },
  {
   "cell_type": "code",
   "execution_count": 122,
   "metadata": {},
   "outputs": [],
   "source": [
    "# Generating Dataset for Training for Polynomial of Degree=10\n",
    "x_t_10, y_matrix_10=x_input(x,d=[10,9,8,7,6,5,4,3,2])"
   ]
  },
  {
   "cell_type": "code",
   "execution_count": 123,
   "metadata": {},
   "outputs": [],
   "source": [
    "# Training with the Generated Dataset when Degree of the Polynomial=10\n",
    "w_10, b_10, l_10 = train(x_t_10, y_matrix_10, Batch=100, d=[10, 9, 8, 7, 6, 5, 4, 3, 2] , epochs=100, lr=0.0000000000000000001)"
   ]
  },
  {
   "cell_type": "code",
   "execution_count": 124,
   "metadata": {},
   "outputs": [],
   "source": [
    "# Predicting with the Generated Dataset when Degree of the Polynomial=10\n",
    "y_pred_10 = predict(x_t_10,w_10,b_10,d=[10, 9, 8, 7, 6, 5, 4, 3, 2])"
   ]
  },
  {
   "cell_type": "code",
   "execution_count": 125,
   "metadata": {},
   "outputs": [],
   "source": [
    "# Generating Dataset for Testing for Polynomial of Degree=10\n",
    "x_t_10_test, y_matrix_10_test=x_input_test(x_test,d=[10,9,8,7,6,5,4,3,2])"
   ]
  },
  {
   "cell_type": "code",
   "execution_count": 126,
   "metadata": {},
   "outputs": [
    {
     "data": {
      "text/plain": [
       "0.9999977153083135"
      ]
     },
     "execution_count": 126,
     "metadata": {},
     "output_type": "execute_result"
    }
   ],
   "source": [
    "# Performance on the Training Dataset for Polynomial of Degree=10\n",
    "r2score_10 = r2_score(y_matrix_10,y_pred_10)\n",
    "r2score_10"
   ]
  },
  {
   "cell_type": "code",
   "execution_count": 127,
   "metadata": {},
   "outputs": [],
   "source": [
    "# Study of Out of Sample Performance when Degree of the Polynomial=10\n",
    "y_pred_10_test=predict(x_t_10_test,w_10,b_10,d=[10, 9, 8, 7, 6, 5, 4, 3, 2])"
   ]
  },
  {
   "cell_type": "code",
   "execution_count": 128,
   "metadata": {},
   "outputs": [
    {
     "data": {
      "text/plain": [
       "0.9999977154300072"
      ]
     },
     "execution_count": 128,
     "metadata": {},
     "output_type": "execute_result"
    }
   ],
   "source": [
    "# Performance on the Testing Dataset for Polynomial of Degree=10\n",
    "r2score_10_test = r2_score(y_matrix_10_test,y_pred_10_test)\n",
    "r2score_10_test"
   ]
  },
  {
   "cell_type": "markdown",
   "metadata": {},
   "source": [
    "### Observations:"
   ]
  },
  {
   "cell_type": "markdown",
   "metadata": {},
   "source": [
    "1. The Distribution of x is transformed to a higher degree by passing x and a list containing exponents that act on x to a function x_transform. This transformed x is used to generate y as ax+b+ε.\n",
    "2. The Linear Regression Model is trained on the generated-transformed dataset using the Mini-Batch gradient descent method for each of the three given polynomials. The weights and bias values returned after training is used for the study of the out-of-sample performance.\n",
    "3. The Out-of-Sample Performance for each of the three given polynomials is studied by using the above weights, bias values and predicting on the test set generated.\n",
    "4. The metric used for comparison of the accuracy and out-of-sample performance of the regression model is the r2 score.\n",
    "5. For a Dataset size of 100000, the r2score for a Polynomial of Degree=2 is 0.996 (lr=0.0001), for a Polynomial of Degree=5 is 0.999 (lr=0.0000000001), for a Polynomial of Degree=10 is 0.999 (lr=0.0000000000000000001)\n",
    "6. For a Dataset size of 10000, the r2score for a Polynomial of Degree=2 is 0.996 (lr=0.0001), for a Polynomial of Degree=5 is 0.999 (lr=0.0000000001), for a Polynomial of Degree=10 is 0.999 (lr=0.0000000000000000001)\n",
    "7. For a Dataset size of 1000, the r2score for a Polynomial of Degree=2 is 0.994 (lr=0.0001), for a Polynomial of Degree=5 is 0.999 (lr=0.0000000001), for a Polynomial of Degree=10 is 0.999 (lr=0.0000000000000000001)\n",
    "8. For a Dataset size of 100, the r2score for a Polynomial of Degree=2 is 0.994 (lr=0.0001), for a Polynomial of Degree=5 is 0.999 (lr=0.0000000001), for a Polynomial of Degree=10 is 0.999 (lr=0.0000000000000000001)"
   ]
  },
  {
   "cell_type": "markdown",
   "metadata": {},
   "source": [
    "### References:"
   ]
  },
  {
   "cell_type": "markdown",
   "metadata": {},
   "source": [
    "1. https://towardsdatascience.com/polynomial-regression-in-python-b69ab7df6105"
   ]
  },
  {
   "cell_type": "code",
   "execution_count": null,
   "metadata": {},
   "outputs": [],
   "source": []
  }
 ],
 "metadata": {
  "kernelspec": {
   "display_name": "Python 3",
   "language": "python",
   "name": "python3"
  },
  "language_info": {
   "codemirror_mode": {
    "name": "ipython",
    "version": 3
   },
   "file_extension": ".py",
   "mimetype": "text/x-python",
   "name": "python",
   "nbconvert_exporter": "python",
   "pygments_lexer": "ipython3",
   "version": "3.7.3"
  }
 },
 "nbformat": 4,
 "nbformat_minor": 2
}
