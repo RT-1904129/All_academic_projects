{
 "cells": [
  {
   "cell_type": "markdown",
   "metadata": {
    "id": "RsDbtHbS1pl1"
   },
   "source": [
    "### Q.2 On the above, fix a suitable training dataset size, train a 10 degree polynomial which exhibits overfitting. Implement the following regularization schemes - Lasso, Ridge, Elastic. Observe how the coefficients change via a plot for different values of regularization constant. Using a validation approach fix a regularization constant. Implement a six-fold cross validation method for fixing regularization constant"
   ]
  },
  {
   "cell_type": "markdown",
   "metadata": {
    "id": "hDT5FpglBdnV"
   },
   "source": [
    "#### First, Let's fix a training dataset size & train a 10 degree polynomial"
   ]
  },
  {
   "cell_type": "code",
   "execution_count": 1,
   "metadata": {
    "id": "Dq4eFcfp7-hK"
   },
   "outputs": [],
   "source": [
    "# Importing libraries and important modules\n",
    "import math\n",
    "import random\n",
    "import numpy as np\n",
    "import pandas as pd\n",
    "import seaborn as sns\n",
    "import matplotlib.pyplot as plt\n",
    "from sklearn import metrics\n",
    "from sklearn.metrics import confusion_matrix\n",
    "from sklearn.metrics import r2_score\n",
    "from sklearn.metrics import classification_report\n",
    "from sklearn.model_selection import train_test_split"
   ]
  },
  {
   "cell_type": "markdown",
   "metadata": {},
   "source": [
    "#### Some helper functions "
   ]
  },
  {
   "cell_type": "code",
   "execution_count": 2,
   "metadata": {
    "id": "9tIYXW46-O9p"
   },
   "outputs": [],
   "source": [
    "# Function to generate data samples of the form y = ax + b + eps\n",
    "def data_generator(a,b,n):\n",
    "    data=[]\n",
    "    for i in range(1,n+1):\n",
    "        x=np.random.uniform(0, 10)\n",
    "        y=a*x+b+np.random.normal(0,1)\n",
    "        data.append([x,y])\n",
    "    data = np.array(data)\n",
    "    return data\n",
    "\n",
    "# Function that generates polynomial features & returns the new dataset.\n",
    "def poly_feature(d,data):\n",
    "    Y=data[:,1]\n",
    "    X=[]\n",
    "    for cur_sam in data:\n",
    "        sample=[]\n",
    "        for i in range(0,d+1):\n",
    "            sample.append(cur_sam[0]**i)\n",
    "        X.append(sample)\n",
    "        \n",
    "    X=np.array(X)\n",
    "    return X,Y\n",
    "\n",
    "# Function that computes the weights using matrix computations as ( (X'X)^(-1)(X'Y) )\n",
    "def find_weights(X,Y):\n",
    "    Xt = X.transpose() \n",
    "    XtX = np.dot(Xt,X)\n",
    "    XtX_inv = np.linalg.inv(XtX)\n",
    "    weights = np.dot(XtX_inv,np.dot(Xt,Y))\n",
    "    return weights\n",
    "\n",
    "# Function that computes the loss of the model using matrix computations.\n",
    "def find_loss(W,X,Y):\n",
    "    Y_XW = Y-np.dot(X,W)\n",
    "    Y_XWt = Y_XW.transpose()\n",
    "    return 0.5*np.dot(Y_XWt, Y_XW)\n",
    "\n",
    "# Function that takes the dataset & computes the weights using traning data & returns weights & loss on test data.\n",
    "def train_and_loss_comp(X,Y,r):\n",
    "    X_train, X_test, Y_train, Y_test = train_test_split(X, Y, test_size=r, random_state=6)\n",
    "    weights = find_weights(X_train,Y_train)\n",
    "    loss = find_loss(weights, X_test, Y_test)\n",
    "    return weights, loss"
   ]
  },
  {
   "cell_type": "code",
   "execution_count": 3,
   "metadata": {
    "id": "LvgJt5tI-O9u"
   },
   "outputs": [
    {
     "name": "stdout",
     "output_type": "stream",
     "text": [
      "The LMS Error upon fitting a 10 degree polynomial is: 107.23672340830718\n"
     ]
    }
   ],
   "source": [
    "# Size of the dataset.\n",
    "N = 1000 \n",
    "\n",
    "# Fitting a polynomial of degree 10.\n",
    "degrees=[10]\n",
    "\n",
    "# Generating the dataset using helper function defined earlier with a = 1 & b = 2.\n",
    "dataset=data_generator(1,2,N)\n",
    "\n",
    "# Extending the dataset with the polynomial features.\n",
    "X,Y = poly_feature(degrees[0],dataset)\n",
    "\n",
    "# Train & compute the error using helper function defined earlier.\n",
    "weights_norm,loss_norm = train_and_loss_comp(X,Y,0.2)\n",
    "\n",
    "print(\"The LMS Error upon fitting a 10 degree polynomial is:\", loss_norm)"
   ]
  },
  {
   "cell_type": "markdown",
   "metadata": {
    "id": "C_pdbQG7__r_"
   },
   "source": [
    "### Lasso regularization scheme    "
   ]
  },
  {
   "cell_type": "code",
   "execution_count": 4,
   "metadata": {
    "id": "cQevn_yD1oFo"
   },
   "outputs": [],
   "source": [
    "# Function that computes the loss associated with the Lasso Regression with parameter delta.\n",
    "def lasso_loss(W,X,Y,delta):\n",
    "    Y_XW=Y-np.dot(X,W)\n",
    "    Y_XWt=Y_XW.transpose()\n",
    "    return 0.5*np.dot(Y_XWt,Y_XW) + delta*np.sum(abs(W)) "
   ]
  },
  {
   "cell_type": "code",
   "execution_count": 5,
   "metadata": {
    "id": "0Wb_2Ytw8EVd"
   },
   "outputs": [],
   "source": [
    "# Function that uses given dataset & computes the weights associated with the Lasso Regression with parameter delta.\n",
    "def lasso_find_weights(X,Y,delta):\n",
    "    Xt = X.transpose() \n",
    "    XtX = np.dot(Xt,X)\n",
    "    XtX_inv = np.linalg.inv(XtX)\n",
    "    other_term =np.dot(Xt,Y)-(delta)*np.ones(len(X[0]))\n",
    "    weights = np.dot(XtX_inv,other_term)\n",
    "    return weights"
   ]
  },
  {
   "cell_type": "markdown",
   "metadata": {},
   "source": [
    "#### Validation approach for fixing regularization constant in Lasso."
   ]
  },
  {
   "cell_type": "code",
   "execution_count": 6,
   "metadata": {},
   "outputs": [],
   "source": [
    "# Function that executes the validation approach to fix the delta associated with the lasso Regression.\n",
    "def lasso_validation_approach(X,Y):\n",
    "    \n",
    "    # Split the data into training, testing & validation sets.\n",
    "    trainX,remain_train,trainY, remain_labels = train_test_split(X, Y, test_size=0.3, random_state=6)\n",
    "    validationX,testX,validationY,testY     = train_test_split(remain_train, remain_labels, test_size=0.5, random_state=6)\n",
    "    \n",
    "    # Try all the delta values in the range chosen & then store the loss.\n",
    "    loss_l=[]\n",
    "    drange = np.arange(0.01, 20, 0.001).tolist() \n",
    "    for delta in drange:\n",
    "        weights=lasso_find_weights(trainX,trainY,delta)\n",
    "        error=lasso_loss(weights,validationX,validationY, delta)\n",
    "        loss_l.append(error)\n",
    "                \n",
    "    delta = drange[np.argmin(np.array(loss_l))]\n",
    "    \n",
    "    # Finding the error.\n",
    "    ntrainX=np.concatenate((trainX,validationX))\n",
    "    ntrainY=np.concatenate((trainY,validationY))\n",
    "    weights=lasso_find_weights(ntrainX,ntrainY,delta)\n",
    "    error= lasso_loss(weights,testX,testY, delta)\n",
    "    \n",
    "    print(\"Regularisation constant in Lasso: \",delta)\n",
    "    print(\"Loss associated with Lasso:\",error)"
   ]
  },
  {
   "cell_type": "code",
   "execution_count": 7,
   "metadata": {},
   "outputs": [
    {
     "name": "stdout",
     "output_type": "stream",
     "text": [
      "Regularisation constant in Lasso:  0.02599999999999999\n",
      "Loss associated with Lasso: 80.2935163688237\n"
     ]
    }
   ],
   "source": [
    "lasso_validation_approach(X,Y)\n",
    "\n",
    "drange=np.linspace(0,5,1000)\n",
    "lasso_weights=[]\n",
    "lasso_error=[]\n",
    "for i in range(len(drange)):\n",
    "    lasso_weights.append([])\n",
    "\n",
    "# Split the data into training & testing sets. \n",
    "trainX,testX,trainY, testY = train_test_split(X, Y, test_size=0.2, random_state=6)\n",
    "\n",
    "# Computing how the weights vary with delta & storing in array to plot later. \n",
    "for degree in degrees:\n",
    "    for delta in drange:\n",
    "        weights=lasso_find_weights(trainX,trainY,delta)\n",
    "        for i in range(len(weights)):\n",
    "            lasso_weights[i].append(weights[i])\n",
    "        error=lasso_loss(weights,testX,testY,delta)\n",
    "        lasso_error.append(error)"
   ]
  },
  {
   "cell_type": "code",
   "execution_count": 8,
   "metadata": {},
   "outputs": [
    {
     "data": {
      "image/png": "[encoded data removed]",
      "text/plain": [
       "<Figure size 432x288 with 1 Axes>"
      ]
     },
     "metadata": {
      "needs_background": "light"
     },
     "output_type": "display_data"
    }
   ],
   "source": [
    "# Plotting the weights vs delta ( regularisation constant.)\n",
    "for i in range(11):\n",
    "    plt.plot(drange,lasso_weights[i])\n",
    "plt.show()"
   ]
  },
  {
   "cell_type": "code",
   "execution_count": 9,
   "metadata": {},
   "outputs": [
    {
     "data": {
      "image/png": "[encoded data removed]",
      "text/plain": [
       "<Figure size 432x288 with 1 Axes>"
      ]
     },
     "metadata": {
      "needs_background": "light"
     },
     "output_type": "display_data"
    },
    {
     "name": "stdout",
     "output_type": "stream",
     "text": [
      "Minimum Lasso error:  107.05587778348219 \n",
      "Regularisation constant(Delta):  0.005005005005005005\n"
     ]
    }
   ],
   "source": [
    "# Plotting the error.\n",
    "plt.plot(drange,lasso_error)\n",
    "plt.show()\n",
    "print(\"Minimum Lasso error: \",min(lasso_error),\"\\nRegularisation constant(Delta): \",drange[lasso_error.index(min(lasso_error))])"
   ]
  },
  {
   "cell_type": "markdown",
   "metadata": {},
   "source": [
    "#### Six fold cross validation method for fixing regularization constant in Lasso."
   ]
  },
  {
   "cell_type": "code",
   "execution_count": 10,
   "metadata": {},
   "outputs": [],
   "source": [
    "# Function that computes the minimum lasso error value and the corresponding delta value. \n",
    "def regConst_finder(trainX,testX,trainY,dataY,drange):\n",
    "    lasso_error_min=[]\n",
    "    for delta in drange:\n",
    "        weights=lasso_find_weights(trainX,trainY,delta)\n",
    "        error=lasso_loss(weights,testX,dataY, delta)\n",
    "        lasso_error_min.append(error)\n",
    "\n",
    "    lasso_min=min(lasso_error_min)\n",
    "    lasso_delta=lasso_error_min.index(lasso_min)\n",
    "    return lasso_min,drange[lasso_delta]"
   ]
  },
  {
   "cell_type": "code",
   "execution_count": 11,
   "metadata": {},
   "outputs": [
    {
     "name": "stdout",
     "output_type": "stream",
     "text": [
      "The Mean error is:  90.19456014510286\n",
      "The Mean Reg. constant ( delta ) value is:  0.0008341675008341675\n"
     ]
    }
   ],
   "source": [
    "# Performing Six fold cross validation method for fixing regularization.\n",
    "\n",
    "X,Y = poly_feature(10,dataset)\n",
    "ratio=0.2\n",
    "lasso_mean=[0]*6\n",
    "lasso_delta=[0]*6\n",
    "\n",
    "# Splitting the data into 6 pts.\n",
    "dtrain, dtest_1, ltrain, ltest_1 = train_test_split(X, Y, test_size=1/6, random_state=6)\n",
    "dtrain, dtest_2, ltrain, ltest_2 = train_test_split(dtrain, ltrain, test_size=1/5, random_state=6)\n",
    "dtrain, dtest_3, ltrain, ltest_3 = train_test_split(dtrain, ltrain, test_size=1/4, random_state=6)\n",
    "dtrain, dtest_4, ltrain, ltest_4 = train_test_split(dtrain, ltrain, test_size=1/3, random_state=6)\n",
    "dtest_5, dtest_6, ltest_5, ltest_6 = train_test_split(dtrain, ltrain, test_size=1/2, random_state=6)\n",
    "\n",
    "dataset_list=[dtest_1,dtest_2,dtest_3,dtest_4,dtest_5,dtest_6]\n",
    "labels_list =[ltest_1,ltest_2,ltest_3,ltest_4,ltest_5,ltest_6]\n",
    "\n",
    "for p in range(0,6):\n",
    "    \n",
    "    trainX,ltest_x=np.array([]),dataset_list[p]\n",
    "    trainY,ltest_y=np.array([]),labels_list[p]\n",
    "    \n",
    "    for i in range(0,6):\n",
    "        if i != p and len(trainX)==0:\n",
    "            trainX=dataset_list[i]\n",
    "            trainY=labels_list[i]\n",
    "        elif i!=p:\n",
    "            trainX=np.concatenate((trainX,dataset_list[i]))\n",
    "            trainY=np.concatenate((trainY,labels_list[i]))\n",
    "            \n",
    "    lasso_mean[p],lasso_delta[p] = regConst_finder(trainX, ltest_x, trainY, ltest_y, drange)  \n",
    "\n",
    "\n",
    "lasso_mean=np.mean(np.array(lasso_mean))\n",
    "lasso_delta_mean=np.mean(np.array(lasso_delta))\n",
    "\n",
    "print(\"The Mean error is: \",lasso_mean)\n",
    "print(\"The Mean Reg. constant ( delta ) value is: \", lasso_delta_mean)"
   ]
  },
  {
   "cell_type": "markdown",
   "metadata": {
    "id": "w20mvPbhAI_t"
   },
   "source": [
    "### Ridge regularization scheme"
   ]
  },
  {
   "cell_type": "code",
   "execution_count": 12,
   "metadata": {
    "id": "iTLU1fKqAI_v"
   },
   "outputs": [],
   "source": [
    "# Function that computes the loss associated with the Ridge Regression with parameter delta.\n",
    "def ridge_loss(W,X,Y,delta):\n",
    "    Y_XW=Y-np.dot(X,W)\n",
    "    Y_XWt=Y_XW.transpose()\n",
    "    return 0.5*np.dot(Y_XWt,Y_XW) + (delta)*np.dot(W.transpose(),W)*0.5 "
   ]
  },
  {
   "cell_type": "code",
   "execution_count": 13,
   "metadata": {},
   "outputs": [],
   "source": [
    "# Function that uses given dataset & computes the weights associated with the Ridge Regression with parameter delta.\n",
    "def ridge_find_weights(X,Y,delta):\n",
    "    Xt = X.transpose() \n",
    "    XtX = np.dot(Xt,X)\n",
    "    del_sq_I= (delta)*np.identity(len(XtX))\n",
    "    XtX_inv=np.linalg.inv(XtX+del_sq_I)\n",
    "    weights=np.dot(XtX_inv,np.dot(Xt,Y))\n",
    "    return weights"
   ]
  },
  {
   "cell_type": "markdown",
   "metadata": {},
   "source": [
    "#### Validation approach for fixing regularization constant in Ridge."
   ]
  },
  {
   "cell_type": "code",
   "execution_count": 14,
   "metadata": {},
   "outputs": [],
   "source": [
    "# Function that executes the validation approach to fix the delta associated with the Ridge Regression.\n",
    "def ridge_validation_approach(X,Y):\n",
    "    \n",
    "    # Split the data into training, testing & validation sets.\n",
    "    trainX,remain_train,trainY, remain_labels = train_test_split(X, Y, test_size=0.3, random_state=6)\n",
    "    validationX,testX,validationY,testY     = train_test_split(remain_train, remain_labels, test_size=0.5, random_state=6)\n",
    "    \n",
    "    # Try all the delta values in the range chosen & then store the loss.\n",
    "    loss_l=[]\n",
    "    drange = np.arange(0.01, 20, 0.001).tolist() \n",
    "    for delta in drange:\n",
    "        weights=ridge_find_weights(trainX,trainY,delta)\n",
    "        error=ridge_loss(weights,validationX,validationY, delta)\n",
    "        loss_l.append(error)\n",
    "                \n",
    "    delta = drange[np.argmin(np.array(loss_l))]\n",
    "    \n",
    "    # Finding the error.\n",
    "    ntrainX=np.concatenate((trainX,validationX))\n",
    "    ntrainY=np.concatenate((trainY,validationY))\n",
    "    weights=ridge_find_weights(ntrainX,ntrainY,delta)\n",
    "    error= ridge_loss(weights,testX,testY, delta)\n",
    "    \n",
    "    print(\"Regularisation constant in ridge: \",delta)\n",
    "    print(\"Loss associated with ridge:\",error)"
   ]
  },
  {
   "cell_type": "code",
   "execution_count": 15,
   "metadata": {},
   "outputs": [
    {
     "name": "stdout",
     "output_type": "stream",
     "text": [
      "Regularisation constant in ridge:  0.015999999999999993\n",
      "Loss associated with ridge: 80.04647550474682\n"
     ]
    }
   ],
   "source": [
    "ridge_validation_approach(X,Y)\n",
    "\n",
    "drange=np.linspace(0,5,1000)\n",
    "ridge_weights=[]\n",
    "ridge_error=[]\n",
    "for i in range(len(drange)):\n",
    "    ridge_weights.append([])\n",
    "\n",
    "# Split the data into training & testing sets. \n",
    "trainX,testX,trainY, testY = train_test_split(X, Y, test_size=0.2, random_state=6)\n",
    "\n",
    "# Computing how the weights vary with delta & storing in array to plot later. \n",
    "for degree in degrees:\n",
    "    for delta in drange:\n",
    "        weights=ridge_find_weights(trainX,trainY,delta)\n",
    "        for i in range(len(weights)):\n",
    "            ridge_weights[i].append(weights[i])\n",
    "        error=ridge_loss(weights,testX,testY,delta)\n",
    "        ridge_error.append(error)"
   ]
  },
  {
   "cell_type": "code",
   "execution_count": 16,
   "metadata": {},
   "outputs": [
    {
     "data": {
      "image/png": "[encoded data removed]",
      "text/plain": [
       "<Figure size 432x288 with 1 Axes>"
      ]
     },
     "metadata": {
      "needs_background": "light"
     },
     "output_type": "display_data"
    }
   ],
   "source": [
    "# Plotting the weights vs delta ( regularisation constant.)\n",
    "for i in range(11):\n",
    "    plt.plot(drange,ridge_weights[i])\n",
    "plt.show()"
   ]
  },
  {
   "cell_type": "code",
   "execution_count": 17,
   "metadata": {},
   "outputs": [
    {
     "data": {
      "image/png": "[encoded data removed]",
      "text/plain": [
       "<Figure size 432x288 with 1 Axes>"
      ]
     },
     "metadata": {
      "needs_background": "light"
     },
     "output_type": "display_data"
    },
    {
     "name": "stdout",
     "output_type": "stream",
     "text": [
      "Minimum Lasso error:  106.80868330270448 \n",
      "Regularisation constant(Delta):  0.015015015015015015\n"
     ]
    }
   ],
   "source": [
    "# Plotting the error.\n",
    "plt.plot(drange,ridge_error)\n",
    "plt.show()\n",
    "print(\"Minimum Lasso error: \",min(ridge_error),\"\\nRegularisation constant(Delta): \",drange[ridge_error.index(min(ridge_error))])"
   ]
  },
  {
   "cell_type": "markdown",
   "metadata": {},
   "source": [
    "#### Six fold cross validation method for fixing regularization constant in Ridge."
   ]
  },
  {
   "cell_type": "code",
   "execution_count": 18,
   "metadata": {},
   "outputs": [],
   "source": [
    "# Function that computes the minimum ridge error value and the corresponding delta value. \n",
    "def regConst_finder(trainX,testX,trainY,dataY,drange):\n",
    "    ridge_error_min=[]\n",
    "    for delta in drange:\n",
    "        weights=ridge_find_weights(trainX,trainY,delta)\n",
    "        error=ridge_loss(weights,testX,dataY, delta)\n",
    "        ridge_error_min.append(error)\n",
    "\n",
    "    ridge_min=min(ridge_error_min)\n",
    "    ridge_delta=ridge_error_min.index(ridge_min)\n",
    "    return ridge_min,drange[ridge_delta]"
   ]
  },
  {
   "cell_type": "code",
   "execution_count": 19,
   "metadata": {},
   "outputs": [
    {
     "name": "stdout",
     "output_type": "stream",
     "text": [
      "The Mean error is:  89.50911424997503\n",
      "The Mean Reg. constant ( delta ) value is:  0.027527527527527528\n"
     ]
    }
   ],
   "source": [
    "# Performing Six fold cross validation method for fixing regularization.\n",
    "\n",
    "X,Y = poly_feature(10,dataset)\n",
    "ratio=0.2\n",
    "ridge_mean=[0]*6\n",
    "ridge_delta=[0]*6\n",
    "\n",
    "# Splitting the data into 6 pts.\n",
    "dtrain, dtest_1, ltrain, ltest_1 = train_test_split(X, Y, test_size=1/6, random_state=6)\n",
    "dtrain, dtest_2, ltrain, ltest_2 = train_test_split(dtrain, ltrain, test_size=1/5, random_state=6)\n",
    "dtrain, dtest_3, ltrain, ltest_3 = train_test_split(dtrain, ltrain, test_size=1/4, random_state=6)\n",
    "dtrain, dtest_4, ltrain, ltest_4 = train_test_split(dtrain, ltrain, test_size=1/3, random_state=6)\n",
    "dtest_5, dtest_6, ltest_5, ltest_6 = train_test_split(dtrain, ltrain, test_size=1/2, random_state=6)\n",
    "\n",
    "dataset_list=[dtest_1,dtest_2,dtest_3,dtest_4,dtest_5,dtest_6]\n",
    "labels_list =[ltest_1,ltest_2,ltest_3,ltest_4,ltest_5,ltest_6]\n",
    "\n",
    "for p in range(0,6):\n",
    "    \n",
    "    trainX,ltest_x=np.array([]),dataset_list[p]\n",
    "    trainY,ltest_y=np.array([]),labels_list[p]\n",
    "    \n",
    "    for i in range(0,6):\n",
    "        if i != p and len(trainX)==0:\n",
    "            trainX=dataset_list[i]\n",
    "            trainY=labels_list[i]\n",
    "        elif i!=p:\n",
    "            trainX=np.concatenate((trainX,dataset_list[i]))\n",
    "            trainY=np.concatenate((trainY,labels_list[i]))\n",
    "            \n",
    "    ridge_mean[p],ridge_delta[p] = regConst_finder(trainX, ltest_x, trainY, ltest_y, drange)  \n",
    "\n",
    "\n",
    "ridge_mean=np.mean(np.array(ridge_mean))\n",
    "ridge_delta_mean=np.mean(np.array(ridge_delta))\n",
    "\n",
    "print(\"The Mean error is: \",ridge_mean)\n",
    "print(\"The Mean Reg. constant ( delta ) value is: \", ridge_delta_mean)"
   ]
  },
  {
   "cell_type": "markdown",
   "metadata": {
    "id": "BY6ThEHuAKFC"
   },
   "source": [
    "### Elastic regularization scheme"
   ]
  },
  {
   "cell_type": "code",
   "execution_count": 20,
   "metadata": {
    "id": "9wSulv0EAKFE"
   },
   "outputs": [],
   "source": [
    "# Function that uses given dataset & computes the weights associated Elastic Regression with parameters alpha & beta.\n",
    "def elastic_find_weights(X,Y,alpha,beta):\n",
    "    Xt = X.transpose() \n",
    "    XtX = np.dot(Xt,X)\n",
    "    del_sq_I= (alpha)*np.identity(len(XtX))\n",
    "    XtX_inv=np.linalg.inv(XtX-del_sq_I)\n",
    "    other_term= np.dot(Xt,Y) - beta*np.ones(11)\n",
    "    return np.dot(XtX_inv,other_term)"
   ]
  },
  {
   "cell_type": "markdown",
   "metadata": {},
   "source": [
    "#### Validation approach for fixing regularization constant in Elastic."
   ]
  },
  {
   "cell_type": "code",
   "execution_count": 21,
   "metadata": {},
   "outputs": [],
   "source": [
    "# Function that executes the validation approach to fix the delta associated with the elastic Regression.\n",
    "def elastic_validation_approach(X,Y):\n",
    "    \n",
    "    # Split the data into training, testing & validation sets.\n",
    "    trainX,remain_train,trainY, remain_labels = train_test_split(X, Y, test_size=0.3, random_state=6)\n",
    "    validationX,testX,validationY,testY     = train_test_split(remain_train, remain_labels, test_size=0.5, random_state=6)\n",
    "    \n",
    "    # Try all the delta values in the range chosen & then store the loss.\n",
    "    loss_e=[]\n",
    "    drange = np.arange(0.01, 20, 0.001).tolist() \n",
    "    for delta in drange:\n",
    "        weights=elastic_find_weights(trainX,trainY,delta, 1-delta)\n",
    "        error=find_loss(weights,validationX,validationY)\n",
    "        loss_e.append(error)\n",
    "                \n",
    "    delta = drange[np.argmin(np.array(loss_e))]\n",
    "    \n",
    "    # Finding the error.\n",
    "    ntrainX=np.concatenate((trainX,validationX))\n",
    "    ntrainY=np.concatenate((trainY,validationY))\n",
    "    weights=elastic_find_weights(ntrainX,ntrainY,delta, 1-delta)\n",
    "    error= find_loss(weights,testX,testY)\n",
    "    \n",
    "    print(\"Regularisation constant in elastic: \",delta)\n",
    "    print(\"Loss associated with elastic:\",error)"
   ]
  },
  {
   "cell_type": "code",
   "execution_count": 22,
   "metadata": {},
   "outputs": [
    {
     "name": "stdout",
     "output_type": "stream",
     "text": [
      "Regularisation constant in elastic:  9.712999999999992\n",
      "Loss associated with elastic: 118.38126731403587\n"
     ]
    }
   ],
   "source": [
    "elastic_validation_approach(X,Y)"
   ]
  },
  {
   "cell_type": "markdown",
   "metadata": {},
   "source": [
    "#### Six fold cross validation method for fixing regularization constant in Elastic."
   ]
  },
  {
   "cell_type": "code",
   "execution_count": 23,
   "metadata": {},
   "outputs": [],
   "source": [
    "# Function that computes the minimum elastic error value and the corresponding delta value. \n",
    "def regConst_finder(trainX,testX,trainY,dataY,drange):\n",
    "    elastic_error_min=[]\n",
    "    for delta in drange:\n",
    "        weights=elastic_find_weights(trainX,trainY,delta, 1-delta)\n",
    "        error=find_loss(weights,testX,dataY)\n",
    "        elastic_error_min.append(error)\n",
    "\n",
    "    elastic_min=min(elastic_error_min)\n",
    "    elastic_delta=elastic_error_min.index(elastic_min)\n",
    "    return elastic_min,drange[elastic_delta]"
   ]
  },
  {
   "cell_type": "code",
   "execution_count": 24,
   "metadata": {},
   "outputs": [
    {
     "name": "stdout",
     "output_type": "stream",
     "text": [
      "The Mean error is:  87.98452656180042\n",
      "The Mean Reg. constant ( delta ) value is:  0.3411745078411745\n"
     ]
    }
   ],
   "source": [
    "# Performing Six fold cross validation method for fixing regularization.\n",
    "\n",
    "X,Y = poly_feature(10,dataset)\n",
    "ratio=0.2\n",
    "elastic_mean=[0]*6\n",
    "elastic_delta=[0]*6\n",
    "\n",
    "# Splitting the data into 6 pts.\n",
    "dtrain, dtest_1, ltrain, ltest_1 = train_test_split(X, Y, test_size=1/6, random_state=6)\n",
    "dtrain, dtest_2, ltrain, ltest_2 = train_test_split(dtrain, ltrain, test_size=1/5, random_state=6)\n",
    "dtrain, dtest_3, ltrain, ltest_3 = train_test_split(dtrain, ltrain, test_size=1/4, random_state=6)\n",
    "dtrain, dtest_4, ltrain, ltest_4 = train_test_split(dtrain, ltrain, test_size=1/3, random_state=6)\n",
    "dtest_5, dtest_6, ltest_5, ltest_6 = train_test_split(dtrain, ltrain, test_size=1/2, random_state=6)\n",
    "\n",
    "dataset_list=[dtest_1,dtest_2,dtest_3,dtest_4,dtest_5,dtest_6]\n",
    "labels_list =[ltest_1,ltest_2,ltest_3,ltest_4,ltest_5,ltest_6]\n",
    "\n",
    "for p in range(0,6):\n",
    "    \n",
    "    trainX,ltest_x=np.array([]),dataset_list[p]\n",
    "    trainY,ltest_y=np.array([]),labels_list[p]\n",
    "    \n",
    "    for i in range(0,6):\n",
    "        if i != p and len(trainX)==0:\n",
    "            trainX=dataset_list[i]\n",
    "            trainY=labels_list[i]\n",
    "        elif i!=p:\n",
    "            trainX=np.concatenate((trainX,dataset_list[i]))\n",
    "            trainY=np.concatenate((trainY,labels_list[i]))\n",
    "            \n",
    "    elastic_mean[p],elastic_delta[p] = regConst_finder(trainX, ltest_x, trainY, ltest_y, drange)  \n",
    "\n",
    "\n",
    "elastic_mean=np.mean(np.array(elastic_mean))\n",
    "elastic_delta_mean=np.mean(np.array(elastic_delta))\n",
    "\n",
    "print(\"The Mean error is: \",elastic_mean)\n",
    "print(\"The Mean Reg. constant ( delta ) value is: \", elastic_delta_mean)"
   ]
  },
  {
   "cell_type": "markdown",
   "metadata": {
    "id": "1rfL1WmJB7UN"
   },
   "source": [
    "Observations:\n",
    "- The **Six fold cross validation method** is giving better results when compared to **Validation approach** while fixing the regularisation constant.\n",
    "- It can be noticed that, Mean error obtained via **six fold cross validation method** in all the three regularisation schemes ( Lasso, Ridge, Elastic ) **decreased** when compared to fitting the 10 degree polynomial directly with no regularisation applied.\n",
    "- Where as the error associated with the regularisation constants that are chosen based on **Validation approach** is almost similar to the earlier error where no regularisation is applied.\n",
    "- The mean regularisation constant values that are found upon **Six fold cross validation method** are very small in case of Lasso Regression and high in case of Elastic Regression.\n",
    "- The way the coefficients change for different values of regularization constant is depicted in plots for the Ridge & Lasso regressions.\n",
    "\n",
    "References:\n",
    "- https://www.datacamp.com/community/tutorials/tutorial-ridge-lasso-elastic-net\n",
    "- https://towardsdatascience.com/preventing-overfitting-with-lasso-ridge-and-elastic-net-regularization-in-machine-learning-d1799b05d382\n"
   ]
  }
 ],
 "metadata": {
  "colab": {
   "collapsed_sections": [
    "hDT5FpglBdnV",
    "C_pdbQG7__r_",
    "w20mvPbhAI_t",
    "BY6ThEHuAKFC"
   ],
   "name": "Regularization_2.ipynb",
   "provenance": []
  },
  "kernelspec": {
   "display_name": "Python 3",
   "language": "python",
   "name": "python3"
  },
  "language_info": {
   "codemirror_mode": {
    "name": "ipython",
    "version": 3
   },
   "file_extension": ".py",
   "mimetype": "text/x-python",
   "name": "python",
   "nbconvert_exporter": "python",
   "pygments_lexer": "ipython3",
   "version": "3.7.3"
  }
 },
 "nbformat": 4,
 "nbformat_minor": 1
}
