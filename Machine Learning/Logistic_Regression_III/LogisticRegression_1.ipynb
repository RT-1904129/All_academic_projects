{
 "cells": [
  {
   "cell_type": "markdown",
   "metadata": {},
   "source": [
    "## III Logistic Regression"
   ]
  },
  {
   "cell_type": "markdown",
   "metadata": {},
   "source": [
    "### Q.1 Using the make_blobs function in sklearn generate a dataset of 100 points with two classes. Implement Logistic regression with cross entropy loss."
   ]
  },
  {
   "cell_type": "code",
   "execution_count": 20,
   "metadata": {},
   "outputs": [],
   "source": [
    "# Importing libraries and important modules\n",
    "import math\n",
    "import random\n",
    "import numpy as np\n",
    "import pandas as pd\n",
    "import seaborn as sns\n",
    "import matplotlib.pyplot as plt\n",
    "from sklearn import metrics\n",
    "from sklearn.metrics import confusion_matrix\n",
    "from sklearn.model_selection import train_test_split\n",
    "from sklearn.metrics import classification_report\n",
    "from sklearn.datasets import make_blobs\n",
    "from math import log"
   ]
  },
  {
   "cell_type": "code",
   "execution_count": 21,
   "metadata": {},
   "outputs": [],
   "source": [
    "# Using the make_blobs function in sklearn to generate a dataset of 100 points with two classes\n",
    "X, y = make_blobs(n_samples = 100, centers = 2, cluster_std = 1, n_features = 2)"
   ]
  },
  {
   "cell_type": "code",
   "execution_count": 22,
   "metadata": {},
   "outputs": [],
   "source": [
    "# Defining the Logistic Regression Class\n",
    "class LogisticRegression() :\n",
    "    def __init__(self, learning_rate, iterations):\n",
    "        self.learning_rate = learning_rate        \n",
    "        self.iterations = iterations\n",
    "    # Cross Entropy Loss \n",
    "    def loss(self, h, y):\n",
    "        return (-y.T.dot(np.log(h)) - (1 - y).T.dot(np.log(1 - h)))/len(y)\n",
    "    # Model Training  \n",
    "    def fit(self, X, Y):        \n",
    "        # No. of Training Examples, No. of Features given by X.shape      \n",
    "        self.m, self.n = X.shape        \n",
    "        # Weight Initialization        \n",
    "        self.W = np.zeros(self.n)        \n",
    "        self.b = 0        \n",
    "        self.X = X        \n",
    "        self.Y = Y\n",
    "        # Gradient Descent Learning\n",
    "        cost_list=[]\n",
    "        # To store the costs in a list after each weight updation\n",
    "        for i in range(self.iterations):\n",
    "            cost_list.append(self.update_weights())\n",
    "        return cost_list\n",
    "      \n",
    "    # Updation of Weights during Gradient Descent \n",
    "    def update_weights(self):\n",
    "        A = 1/(1 + np.exp(-(self.X.dot(self.W) + self.b))) #Sigmoid Activation Function\n",
    "        # Gradients Calculation (Derivative of Loss Function with respect to weights)\n",
    "        p = ( A - self.Y.T )        \n",
    "        p = np.reshape(p, self.m)     \n",
    "        dW = np.dot(self.X.T, p)/self.m         \n",
    "        db = np.sum(p)/self.m \n",
    "        # Updation of Weights\n",
    "        self.W = self.W - self.learning_rate * dW    \n",
    "        self.b = self.b - self.learning_rate * db\n",
    "        return self.loss(A,self.Y)\n",
    "    \n",
    "    # Prediction on Dataset X; if result from Sigmoid Activation Function is greater than 0.5, result is 1 else 0\n",
    "    def predict(self, X):\n",
    "        Z = 1/( 1 + np.exp(-(X.dot(self.W) + self.b)))        \n",
    "        Y = np.where( Z > 0.5, 1, 0 )        \n",
    "        return Y \n",
    "    # Defining the F1 Score (2PR/P+R)\n",
    "    def F1_score(self,y,y_pred):\n",
    "        tp,tn,fp,fn = 0,0,0,0 # True Positive, True Negative, False Positive, False Negative\n",
    "        for i in range(len(y)):\n",
    "            if y[i] == 1 and y_pred[i] == 1:\n",
    "                tp += 1\n",
    "            elif y[i] == 1 and y_pred[i] == 0:\n",
    "                fn += 1\n",
    "            elif y[i] == 0 and y_pred[i] == 1:\n",
    "                fp += 1\n",
    "            elif y[i] == 0 and y_pred[i] == 0:\n",
    "                tn += 1\n",
    "        precision = tp/(tp+fp)\n",
    "        recall = tp/(tp+fn)\n",
    "        f1_score = 2*precision*recall/(precision+recall)\n",
    "        return f1_score\n",
    "    "
   ]
  },
  {
   "cell_type": "code",
   "execution_count": 23,
   "metadata": {},
   "outputs": [],
   "source": [
    "# Splitting the Dataset into Training and Test Set\n",
    "X_train, X_test, y_train, y_test = train_test_split(X, y, test_size = 0.25, random_state = 0)\n",
    "# Using the above defined Logistic Regression class for Model Training    \n",
    "model_LR = LogisticRegression(learning_rate = 0.01, iterations = 100)\n",
    "Cost = model_LR.fit(X_train, y_train)\n",
    "y_pred = model_LR.predict(X_test)\n",
    "f1score = model_LR.F1_score(y_test,y_pred)"
   ]
  },
  {
   "cell_type": "code",
   "execution_count": 24,
   "metadata": {},
   "outputs": [
    {
     "name": "stdout",
     "output_type": "stream",
     "text": [
      "Accuracy of the Logistic Regression Model on Test Set (%) : 100.0\n",
      "F1 Score of the Logistic Regression Model on Test Set: 1.0\n"
     ]
    }
   ],
   "source": [
    "# Accuracy Calculation\n",
    "count = 0    \n",
    "cc=0\n",
    "for count in range(np.size(y_pred)):\n",
    "    if y_test[count] == y_pred[count]:\n",
    "        cc=cc+1\n",
    "    count=count+1\n",
    "accuracy = (cc/count) * 100\n",
    "print(\"Accuracy of the Logistic Regression Model on Test Set (%) :\", accuracy)\n",
    "print(\"F1 Score of the Logistic Regression Model on Test Set:\", f1score)"
   ]
  },
  {
   "cell_type": "code",
   "execution_count": 25,
   "metadata": {},
   "outputs": [
    {
     "data": {
      "image/png": "[encoded data removed]",
      "text/plain": [
       "<Figure size 432x288 with 1 Axes>"
      ]
     },
     "metadata": {
      "needs_background": "light"
     },
     "output_type": "display_data"
    }
   ],
   "source": [
    "# Plot of the Cost Function for every iteration\n",
    "xpoints = np.arange(0,100,1)\n",
    "plt.plot(xpoints,Cost)\n",
    "plt.xlabel(\"Iterations\")\n",
    "plt.ylabel(\"Cost\")\n",
    "plt.show()"
   ]
  },
  {
   "cell_type": "markdown",
   "metadata": {},
   "source": [
    "### Observations:"
   ]
  },
  {
   "cell_type": "markdown",
   "metadata": {},
   "source": [
    "1. The make_blobs function in sklearn has been used to generate a dataset of 100 points with two classes.\n",
    "2. The Loss Function used in the Logistic Regression Model is the Cross Entropy Loss.\n",
    "3. Cross Entropy Loss: L = (-ylog(h) - (1 - y)log(1 - h))/m where m is the number of training examples.\n",
    "4. The Gradients are computed through calculation of derivative of loss Function with respect to weights and the Weights, Bias are suitably updated using an input learning rate.\n",
    "5. During prediction, the sigmoid activation function is applied to W*X+B. \n",
    "6. If result from sigmoid activation function is greater than 0.5, a value of 1 is outputted else 0 is outputted.\n",
    "7. The Dataset is split into Training set(75%) and Test set(25%). The Logistic Regression Model is fit on the Training Dataset with an input learning rate=0.01 and run for 100 iterations.\n",
    "8. The Accuracy and F1-score on the Test set from the Logistic Regression Model  is outputted.\n",
    "7. A Plot of the Cost function vs Iteration is shown above. We can observe that the Cost gradually decreases as number of iterations increases. \n",
    "8. We observe that as the estimated weights and bias approach the true values,the loss reduces with each iteration increase."
   ]
  },
  {
   "cell_type": "markdown",
   "metadata": {},
   "source": [
    "### References:"
   ]
  },
  {
   "cell_type": "markdown",
   "metadata": {},
   "source": [
    "1. https://www.analyticsvidhya.com/blog/2022/02/implementing-logistic-regression-from-scratch-using-python/\n",
    "2. https://www.geeksforgeeks.org/implementation-of-logistic-regression-from-scratch-using-python/"
   ]
  }
 ],
 "metadata": {
  "kernelspec": {
   "display_name": "Python 3",
   "language": "python",
   "name": "python3"
  },
  "language_info": {
   "codemirror_mode": {
    "name": "ipython",
    "version": 3
   },
   "file_extension": ".py",
   "mimetype": "text/x-python",
   "name": "python",
   "nbconvert_exporter": "python",
   "pygments_lexer": "ipython3",
   "version": "3.7.3"
  }
 },
 "nbformat": 4,
 "nbformat_minor": 2
}
